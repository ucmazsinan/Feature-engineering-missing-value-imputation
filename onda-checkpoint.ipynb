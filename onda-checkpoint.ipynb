{
 "cells": [
  {
   "cell_type": "code",
   "execution_count": 3,
   "id": "b921964a",
   "metadata": {},
   "outputs": [],
   "source": [
    "import pandas as pd\n",
    "\n",
    "import numpy as np\n",
    "\n",
    "import matplotlib.pyplot as plt\n",
    "\n",
    "from sklearn.model_selection import train_test_split\n",
    "\n",
    "# to determine the p-values with anova\n",
    "from sklearn.feature_selection import f_classif\n",
    "\n",
    "# to select features\n",
    "from sklearn.feature_selection import SelectKBest\n",
    "\n",
    "# to determine the chi2 value\n",
    "from sklearn.feature_selection import chi2\n",
    "\n",
    "from sklearn import metrics\n",
    "\n",
    "from feature_engine.selection import SelectByTargetMeanPerformance\n",
    "\n",
    "import seaborn as sns \n",
    "import matplotlib.pyplot as plt \n",
    "%matplotlib inline\n",
    "\n",
    "import warnings\n",
    "\n",
    "warnings.filterwarnings('ignore')"
   ]
  },
  {
   "cell_type": "code",
   "execution_count": 4,
   "id": "58d9552e",
   "metadata": {},
   "outputs": [
    {
     "data": {
      "text/plain": [
       "'C:\\\\Users\\\\user\\\\Desktop\\\\2022BaharSeminer'"
      ]
     },
     "execution_count": 4,
     "metadata": {},
     "output_type": "execute_result"
    }
   ],
   "source": [
    "%pwd"
   ]
  },
  {
   "cell_type": "code",
   "execution_count": 5,
   "id": "f749ae3c",
   "metadata": {},
   "outputs": [
    {
     "data": {
      "text/html": [
       "<div>\n",
       "<style scoped>\n",
       "    .dataframe tbody tr th:only-of-type {\n",
       "        vertical-align: middle;\n",
       "    }\n",
       "\n",
       "    .dataframe tbody tr th {\n",
       "        vertical-align: top;\n",
       "    }\n",
       "\n",
       "    .dataframe thead th {\n",
       "        text-align: right;\n",
       "    }\n",
       "</style>\n",
       "<table border=\"1\" class=\"dataframe\">\n",
       "  <thead>\n",
       "    <tr style=\"text-align: right;\">\n",
       "      <th></th>\n",
       "      <th>ID</th>\n",
       "      <th>MK</th>\n",
       "      <th>İlKodu</th>\n",
       "      <th>Bölge</th>\n",
       "      <th>İlAdı</th>\n",
       "      <th>İlçeAdı</th>\n",
       "      <th>MahalleAdı</th>\n",
       "      <th>KırKent</th>\n",
       "      <th>Soru1</th>\n",
       "      <th>Soru2</th>\n",
       "      <th>...</th>\n",
       "      <th>Soru43</th>\n",
       "      <th>Soru44</th>\n",
       "      <th>Soru45</th>\n",
       "      <th>Soru46</th>\n",
       "      <th>Soru47</th>\n",
       "      <th>Soru48</th>\n",
       "      <th>Soru48.1</th>\n",
       "      <th>kisibasigelir</th>\n",
       "      <th>gelirdilimleri</th>\n",
       "      <th>Soru52</th>\n",
       "    </tr>\n",
       "  </thead>\n",
       "  <tbody>\n",
       "    <tr>\n",
       "      <th>0</th>\n",
       "      <td>2458</td>\n",
       "      <td>27417</td>\n",
       "      <td>34</td>\n",
       "      <td>1</td>\n",
       "      <td>İSTANBUL</td>\n",
       "      <td>BAĞCILAR</td>\n",
       "      <td>DEMİRKAPI 3</td>\n",
       "      <td>2</td>\n",
       "      <td>2</td>\n",
       "      <td>26.0</td>\n",
       "      <td>...</td>\n",
       "      <td>1</td>\n",
       "      <td>2</td>\n",
       "      <td>2</td>\n",
       "      <td>1</td>\n",
       "      <td>3</td>\n",
       "      <td>4500.0</td>\n",
       "      <td>5</td>\n",
       "      <td>NaN</td>\n",
       "      <td>NaN</td>\n",
       "      <td>3</td>\n",
       "    </tr>\n",
       "    <tr>\n",
       "      <th>1</th>\n",
       "      <td>1243</td>\n",
       "      <td>43</td>\n",
       "      <td>1</td>\n",
       "      <td>6</td>\n",
       "      <td>ADANA</td>\n",
       "      <td>CEYHAN</td>\n",
       "      <td>BAŞÖREN</td>\n",
       "      <td>1</td>\n",
       "      <td>2</td>\n",
       "      <td>66.0</td>\n",
       "      <td>...</td>\n",
       "      <td>1</td>\n",
       "      <td>1</td>\n",
       "      <td>1</td>\n",
       "      <td>1</td>\n",
       "      <td>4</td>\n",
       "      <td>5000.0</td>\n",
       "      <td>5</td>\n",
       "      <td>1666.666667</td>\n",
       "      <td>4.0</td>\n",
       "      <td>1</td>\n",
       "    </tr>\n",
       "    <tr>\n",
       "      <th>2</th>\n",
       "      <td>545</td>\n",
       "      <td>31764</td>\n",
       "      <td>35</td>\n",
       "      <td>3</td>\n",
       "      <td>İZMİR</td>\n",
       "      <td>ÇİĞLİ</td>\n",
       "      <td>ATATÜRK 3</td>\n",
       "      <td>1</td>\n",
       "      <td>2</td>\n",
       "      <td>52.0</td>\n",
       "      <td>...</td>\n",
       "      <td>2</td>\n",
       "      <td>3</td>\n",
       "      <td>1</td>\n",
       "      <td>3</td>\n",
       "      <td>4</td>\n",
       "      <td>2500.0</td>\n",
       "      <td>4</td>\n",
       "      <td>625.000000</td>\n",
       "      <td>3.0</td>\n",
       "      <td>99</td>\n",
       "    </tr>\n",
       "    <tr>\n",
       "      <th>3</th>\n",
       "      <td>1927</td>\n",
       "      <td>28741</td>\n",
       "      <td>34</td>\n",
       "      <td>1</td>\n",
       "      <td>İSTANBUL</td>\n",
       "      <td>EYÜP</td>\n",
       "      <td>GÜZELTEPE 1</td>\n",
       "      <td>2</td>\n",
       "      <td>2</td>\n",
       "      <td>38.0</td>\n",
       "      <td>...</td>\n",
       "      <td>1</td>\n",
       "      <td>1</td>\n",
       "      <td>3</td>\n",
       "      <td>2</td>\n",
       "      <td>2</td>\n",
       "      <td>3200.0</td>\n",
       "      <td>5</td>\n",
       "      <td>1600.000000</td>\n",
       "      <td>4.0</td>\n",
       "      <td>3</td>\n",
       "    </tr>\n",
       "    <tr>\n",
       "      <th>4</th>\n",
       "      <td>1864</td>\n",
       "      <td>44884</td>\n",
       "      <td>33</td>\n",
       "      <td>6</td>\n",
       "      <td>MERSİN</td>\n",
       "      <td>TOROSLAR</td>\n",
       "      <td>MUSTAFA KEMAL</td>\n",
       "      <td>2</td>\n",
       "      <td>2</td>\n",
       "      <td>42.0</td>\n",
       "      <td>...</td>\n",
       "      <td>1</td>\n",
       "      <td>2</td>\n",
       "      <td>2</td>\n",
       "      <td>1</td>\n",
       "      <td>3</td>\n",
       "      <td>1000.0</td>\n",
       "      <td>2</td>\n",
       "      <td>166.666667</td>\n",
       "      <td>1.0</td>\n",
       "      <td>2</td>\n",
       "    </tr>\n",
       "  </tbody>\n",
       "</table>\n",
       "<p>5 rows × 95 columns</p>\n",
       "</div>"
      ],
      "text/plain": [
       "     ID     MK  İlKodu  Bölge     İlAdı   İlçeAdı     MahalleAdı  KırKent  \\\n",
       "0  2458  27417      34      1  İSTANBUL  BAĞCILAR    DEMİRKAPI 3        2   \n",
       "1  1243     43       1      6     ADANA    CEYHAN        BAŞÖREN        1   \n",
       "2   545  31764      35      3     İZMİR     ÇİĞLİ      ATATÜRK 3        1   \n",
       "3  1927  28741      34      1  İSTANBUL      EYÜP    GÜZELTEPE 1        2   \n",
       "4  1864  44884      33      6    MERSİN  TOROSLAR  MUSTAFA KEMAL        2   \n",
       "\n",
       "   Soru1  Soru2  ...  Soru43  Soru44  Soru45  Soru46  Soru47  Soru48  \\\n",
       "0      2   26.0  ...       1       2       2       1       3  4500.0   \n",
       "1      2   66.0  ...       1       1       1       1       4  5000.0   \n",
       "2      2   52.0  ...       2       3       1       3       4  2500.0   \n",
       "3      2   38.0  ...       1       1       3       2       2  3200.0   \n",
       "4      2   42.0  ...       1       2       2       1       3  1000.0   \n",
       "\n",
       "   Soru48.1  kisibasigelir  gelirdilimleri  Soru52  \n",
       "0         5            NaN             NaN       3  \n",
       "1         5    1666.666667             4.0       1  \n",
       "2         4     625.000000             3.0      99  \n",
       "3         5    1600.000000             4.0       3  \n",
       "4         2     166.666667             1.0       2  \n",
       "\n",
       "[5 rows x 95 columns]"
      ]
     },
     "execution_count": 5,
     "metadata": {},
     "output_type": "execute_result"
    }
   ],
   "source": [
    "df = pd.read_excel(\"yasam_memnuniyeti.xlsx\")\n",
    "df.head()"
   ]
  },
  {
   "cell_type": "markdown",
   "id": "569456f7",
   "metadata": {},
   "source": [
    "Aşağıda belirtilen bu değişkenleri gereksiz değişken olarak sınıflayabiliriz, bunu belirtme nedenimiz ise; \n",
    "\n",
    "- ID\t\n",
    "- MK\t\n",
    "- İlKodu\t\n",
    "- Bölge\tİlAdı \n",
    "- İlçeAdı\t\n",
    "- MahalleAdı \n",
    "\n",
    "###### Yaşanılan Bölge\n",
    "\n",
    "Genel tüm sınıfın açıklaması burada sınıflanmıştır.\n",
    "\n",
    "* 0\tKır\n",
    "* 1\tKent\n",
    "* 2\tMetropol"
   ]
  },
  {
   "cell_type": "code",
   "execution_count": 6,
   "id": "67cb8eb6",
   "metadata": {},
   "outputs": [
    {
     "data": {
      "text/plain": [
       "(2666, 95)"
      ]
     },
     "execution_count": 6,
     "metadata": {},
     "output_type": "execute_result"
    }
   ],
   "source": [
    "df.shape"
   ]
  },
  {
   "cell_type": "code",
   "execution_count": 7,
   "id": "4cfae5f5",
   "metadata": {},
   "outputs": [],
   "source": [
    "df = df.replace(99, np.nan) "
   ]
  },
  {
   "cell_type": "markdown",
   "id": "620fd917",
   "metadata": {},
   "source": [
    "Burada yapılan işlem ise, 99 eksik gözlem olarak kodlandığı için öncelikle analiz açısından bu kodlama nan olarak değiştirerek eksik gözlem analizi yapabiliriz.\n",
    "\n"
   ]
  },
  {
   "cell_type": "code",
   "execution_count": 8,
   "id": "bd4e87b3",
   "metadata": {
    "scrolled": true
   },
   "outputs": [
    {
     "data": {
      "text/plain": [
       "ID               1\n",
       "MK               0\n",
       "İlKodu           0\n",
       "Bölge            0\n",
       "İlAdı            0\n",
       "İlçeAdı          0\n",
       "MahalleAdı       0\n",
       "KırKent          0\n",
       "Soru1           16\n",
       "Soru2            4\n",
       "Soru2.1          0\n",
       "Soru3           15\n",
       "Soru3.1         15\n",
       "Soru4            8\n",
       "Soru5          102\n",
       "Soru5.1        102\n",
       "Soru6           52\n",
       "Soru7          134\n",
       "Soru8           29\n",
       "Soru9          209\n",
       "Soru10         362\n",
       "Soru11        1197\n",
       "Soru12         689\n",
       "Soru13         853\n",
       "Soru14          20\n",
       "Soru15           8\n",
       "Soru16.1         0\n",
       "Soru16.2         0\n",
       "Soru16.3         0\n",
       "Soru16.4         0\n",
       "Soru17          80\n",
       "Soru18           6\n",
       "Soru18.2      2129\n",
       "Soru18.1       254\n",
       "Soru19.1         0\n",
       "Soru19.2         0\n",
       "Soru19.3         0\n",
       "Soru19.4         0\n",
       "Soru19.5         0\n",
       "Soru19.6         0\n",
       "dtype: int64"
      ]
     },
     "execution_count": 8,
     "metadata": {},
     "output_type": "execute_result"
    }
   ],
   "source": [
    "df.isnull().sum()[:40]"
   ]
  },
  {
   "cell_type": "markdown",
   "id": "59bd787e",
   "metadata": {},
   "source": [
    "\n",
    "\n",
    "\n",
    "\n",
    "\n",
    "- Soru2 : Açık uçlu \n",
    "\n",
    "\n",
    "- Soru3.1 : Eğitim durumu (gruplanmış)\n",
    "\n",
    "    1.Lise altı\n",
    "    \n",
    "\t2.Lise\n",
    "    \n",
    "\t3.Üniversite\n",
    "    \n",
    "\t4.Cevap yok\n",
    "\n",
    "\n",
    "- Soru18 : Kredi kartı borcunuz var mı? Var ise ne kadar?\n",
    "\n",
    "Belirtilen değişkenlerin sırasıyla, 4, 15 ve 6 eksik gözlemleri bulunduğu için,\n",
    "soru 2 ve 18'i medyan, interpolasyon, geriye doğru ileri doğru  veya tahmin yöntemleri ile doldurabiliriz. \n",
    "\n",
    "Soru 3.1 ise frekansa göre, tekrar etme sayısına göre  veya tahmin yöntemi ile doldurabiliriz. \n",
    "\n",
    "Sayıca az olduğu için bu yöntemler bilgi kaybını önlemesi açısından çok daha iyi olmaktadır. \n",
    "\n",
    "* Soru1, Soru3, Soru4, Soru5, Soru5.1, Soru6, Soru7, Soru8, Soru9, Soru10, Soru14, Soru15, Soru17, Soru18.1 değişkenleri için ise nitel ve nicel olma durumlarına göre belirtilen yöntemlerle doldurulması yapılacaktır. \n",
    "\n",
    "* Soru11, Soru12, Soru13, Soru18.2'de sayıca fazla eksik gözlem olmasından dolayı analizden bu değişkenleri çıkartadabiliriz."
   ]
  },
  {
   "cell_type": "code",
   "execution_count": 9,
   "id": "308d7f2b",
   "metadata": {},
   "outputs": [
    {
     "data": {
      "text/plain": [
       "Soru19.7             0\n",
       "Soru19.8             0\n",
       "Soru19.9             0\n",
       "Soru19.10            0\n",
       "Soru19.11            0\n",
       "Soru20.1             0\n",
       "Soru20.2             0\n",
       "Soru20.3             0\n",
       "Soru20.4             0\n",
       "Soru20.5             0\n",
       "Soru20.6             0\n",
       "Soru20.7             0\n",
       "Soru20.8             0\n",
       "Soru20.9             0\n",
       "Soru20.10            0\n",
       "Soru20.11            0\n",
       "Soru21             285\n",
       "Soru22.1             0\n",
       "Soru22.2             0\n",
       "Soru22.3             0\n",
       "Soru22.4             0\n",
       "Soru22.5             0\n",
       "Soru22.6             0\n",
       "Soru22.7             0\n",
       "Soru23Çocuk          0\n",
       "Soru23Şartlı         0\n",
       "Soru23Hamilelik      0\n",
       "Soru23YAşlı          0\n",
       "Soru23Dul            0\n",
       "Soru23Sakatlık       0\n",
       "Soru23Yakacak        0\n",
       "Soru23Diğer          0\n",
       "Soru24              64\n",
       "Soru25              29\n",
       "Soru26              36\n",
       "Soru27              41\n",
       "Soru28              35\n",
       "Soru29             179\n",
       "Soru30              12\n",
       "Soru31             116\n",
       "Soru32              83\n",
       "Soru39             165\n",
       "Soru40              54\n",
       "Soru41             297\n",
       "Soru42              14\n",
       "Soru43              19\n",
       "Soru44              40\n",
       "Soru45              13\n",
       "Soru46              30\n",
       "Soru47              51\n",
       "Soru48             111\n",
       "Soru48.1             0\n",
       "kisibasigelir      211\n",
       "gelirdilimleri     211\n",
       "Soru52             251\n",
       "dtype: int64"
      ]
     },
     "execution_count": 9,
     "metadata": {},
     "output_type": "execute_result"
    }
   ],
   "source": [
    "df.isnull().sum()[40:]"
   ]
  },
  {
   "cell_type": "markdown",
   "id": "543d9aa9",
   "metadata": {},
   "source": [
    "\n",
    "\n",
    "\n",
    "##### Soru5.1 : Hane kişi Sayısı\n",
    "\n",
    "- 1\t1 - 2 kişi\n",
    "- 2\t3 - 5 kişi\n",
    "- 3\t6 - 8 kişi\n",
    "- 4\t9 ve daha fazla kişi\n",
    "- 5\tCevap yok\n",
    "    \n",
    "\n",
    "##### Soru18.2 : Kredi kartı borcunuz ne kadar ? \n",
    "\n",
    "##### Soru48 : Aylık toplam geliriniz ne kadar ? \n",
    "\n",
    "* Bu değişkenlerin ise sırasıyla; 102, 2129, 111 eksik gözlemleri bulunmaktadır. Bunları Soru18.2'eksik gözlem sayısı fazla olduğu için bu değişkeni analizin dışında bırakabiliriz. Diğer değişkenler üzerinden ise eksik gözlem doldurma işlemi gerçekleştirebiliriz. \n",
    "\n",
    "###### Kişi Başı Gelir değişkeni ise;\n",
    "\n",
    "* Bunu Soru5 de bulunan hane kişi sayısına soru48 dee Aylık toplam gelire bölünerek elde edildiği için bu değişkeni soru 48'de eksik gözlem tahmin işlemini gerçekleştirdikten sonra türeterek daha mantıklı bir işlem gerçekleştirmiş olacağız. \n",
    "\n",
    "###### Gelir dilimleri ise,\n",
    "\n",
    "* Kişibaı gelire göre nitelendirilip gruplandıralarak elde edilmiştir.\n",
    "\n",
    "* Soru21, Soru24, Soru25, Soru26, Soru27, Soru28, Soru29, Soru30, Soru31, Soru32, Soru39, Soru40, Soru41, Soru42, Soru43 Soru44, Soru45, Soru46, Soru47 değişkenleride benzer işlemler ile doldurulacaktır. "
   ]
  },
  {
   "cell_type": "markdown",
   "id": "40685b60",
   "metadata": {},
   "source": [
    "# Değişken Silme İşlemi"
   ]
  },
  {
   "cell_type": "code",
   "execution_count": 10,
   "id": "fe0f3fc7",
   "metadata": {},
   "outputs": [],
   "source": [
    "df.drop(labels = ['Soru11', \"Soru12\", \"Soru13\", \"Soru18.2\"], axis = 1, inplace = True)"
   ]
  },
  {
   "cell_type": "code",
   "execution_count": 11,
   "id": "c060a4a8",
   "metadata": {},
   "outputs": [
    {
     "data": {
      "text/html": [
       "<div>\n",
       "<style scoped>\n",
       "    .dataframe tbody tr th:only-of-type {\n",
       "        vertical-align: middle;\n",
       "    }\n",
       "\n",
       "    .dataframe tbody tr th {\n",
       "        vertical-align: top;\n",
       "    }\n",
       "\n",
       "    .dataframe thead th {\n",
       "        text-align: right;\n",
       "    }\n",
       "</style>\n",
       "<table border=\"1\" class=\"dataframe\">\n",
       "  <thead>\n",
       "    <tr style=\"text-align: right;\">\n",
       "      <th></th>\n",
       "      <th>ID</th>\n",
       "      <th>MK</th>\n",
       "      <th>İlKodu</th>\n",
       "      <th>Bölge</th>\n",
       "      <th>İlAdı</th>\n",
       "      <th>İlçeAdı</th>\n",
       "      <th>MahalleAdı</th>\n",
       "      <th>KırKent</th>\n",
       "      <th>Soru1</th>\n",
       "      <th>Soru2</th>\n",
       "      <th>Soru2.1</th>\n",
       "      <th>Soru3</th>\n",
       "      <th>Soru3.1</th>\n",
       "      <th>Soru4</th>\n",
       "      <th>Soru5</th>\n",
       "      <th>Soru5.1</th>\n",
       "      <th>Soru6</th>\n",
       "      <th>Soru7</th>\n",
       "      <th>Soru8</th>\n",
       "      <th>Soru9</th>\n",
       "    </tr>\n",
       "  </thead>\n",
       "  <tbody>\n",
       "    <tr>\n",
       "      <th>0</th>\n",
       "      <td>2458.0</td>\n",
       "      <td>27417</td>\n",
       "      <td>34</td>\n",
       "      <td>1</td>\n",
       "      <td>İSTANBUL</td>\n",
       "      <td>BAĞCILAR</td>\n",
       "      <td>DEMİRKAPI 3</td>\n",
       "      <td>2</td>\n",
       "      <td>2.0</td>\n",
       "      <td>26.0</td>\n",
       "      <td>1</td>\n",
       "      <td>5.0</td>\n",
       "      <td>2.0</td>\n",
       "      <td>1.0</td>\n",
       "      <td>NaN</td>\n",
       "      <td>NaN</td>\n",
       "      <td>2.0</td>\n",
       "      <td>4.0</td>\n",
       "      <td>4.0</td>\n",
       "      <td>NaN</td>\n",
       "    </tr>\n",
       "    <tr>\n",
       "      <th>1</th>\n",
       "      <td>1243.0</td>\n",
       "      <td>43</td>\n",
       "      <td>1</td>\n",
       "      <td>6</td>\n",
       "      <td>ADANA</td>\n",
       "      <td>CEYHAN</td>\n",
       "      <td>BAŞÖREN</td>\n",
       "      <td>1</td>\n",
       "      <td>2.0</td>\n",
       "      <td>66.0</td>\n",
       "      <td>3</td>\n",
       "      <td>6.0</td>\n",
       "      <td>3.0</td>\n",
       "      <td>3.0</td>\n",
       "      <td>3.0</td>\n",
       "      <td>2.0</td>\n",
       "      <td>1.0</td>\n",
       "      <td>3.0</td>\n",
       "      <td>9.0</td>\n",
       "      <td>NaN</td>\n",
       "    </tr>\n",
       "    <tr>\n",
       "      <th>2</th>\n",
       "      <td>545.0</td>\n",
       "      <td>31764</td>\n",
       "      <td>35</td>\n",
       "      <td>3</td>\n",
       "      <td>İZMİR</td>\n",
       "      <td>ÇİĞLİ</td>\n",
       "      <td>ATATÜRK 3</td>\n",
       "      <td>1</td>\n",
       "      <td>2.0</td>\n",
       "      <td>52.0</td>\n",
       "      <td>3</td>\n",
       "      <td>6.0</td>\n",
       "      <td>3.0</td>\n",
       "      <td>3.0</td>\n",
       "      <td>4.0</td>\n",
       "      <td>2.0</td>\n",
       "      <td>1.0</td>\n",
       "      <td>2.0</td>\n",
       "      <td>4.0</td>\n",
       "      <td>2.0</td>\n",
       "    </tr>\n",
       "    <tr>\n",
       "      <th>3</th>\n",
       "      <td>1927.0</td>\n",
       "      <td>28741</td>\n",
       "      <td>34</td>\n",
       "      <td>1</td>\n",
       "      <td>İSTANBUL</td>\n",
       "      <td>EYÜP</td>\n",
       "      <td>GÜZELTEPE 1</td>\n",
       "      <td>2</td>\n",
       "      <td>2.0</td>\n",
       "      <td>38.0</td>\n",
       "      <td>2</td>\n",
       "      <td>5.0</td>\n",
       "      <td>2.0</td>\n",
       "      <td>3.0</td>\n",
       "      <td>2.0</td>\n",
       "      <td>1.0</td>\n",
       "      <td>1.0</td>\n",
       "      <td>2.0</td>\n",
       "      <td>2.0</td>\n",
       "      <td>2.0</td>\n",
       "    </tr>\n",
       "    <tr>\n",
       "      <th>4</th>\n",
       "      <td>1864.0</td>\n",
       "      <td>44884</td>\n",
       "      <td>33</td>\n",
       "      <td>6</td>\n",
       "      <td>MERSİN</td>\n",
       "      <td>TOROSLAR</td>\n",
       "      <td>MUSTAFA KEMAL</td>\n",
       "      <td>2</td>\n",
       "      <td>2.0</td>\n",
       "      <td>42.0</td>\n",
       "      <td>2</td>\n",
       "      <td>3.0</td>\n",
       "      <td>1.0</td>\n",
       "      <td>3.0</td>\n",
       "      <td>6.0</td>\n",
       "      <td>3.0</td>\n",
       "      <td>2.0</td>\n",
       "      <td>4.0</td>\n",
       "      <td>4.0</td>\n",
       "      <td>NaN</td>\n",
       "    </tr>\n",
       "  </tbody>\n",
       "</table>\n",
       "</div>"
      ],
      "text/plain": [
       "       ID     MK  İlKodu  Bölge     İlAdı   İlçeAdı     MahalleAdı  KırKent  \\\n",
       "0  2458.0  27417      34      1  İSTANBUL  BAĞCILAR    DEMİRKAPI 3        2   \n",
       "1  1243.0     43       1      6     ADANA    CEYHAN        BAŞÖREN        1   \n",
       "2   545.0  31764      35      3     İZMİR     ÇİĞLİ      ATATÜRK 3        1   \n",
       "3  1927.0  28741      34      1  İSTANBUL      EYÜP    GÜZELTEPE 1        2   \n",
       "4  1864.0  44884      33      6    MERSİN  TOROSLAR  MUSTAFA KEMAL        2   \n",
       "\n",
       "   Soru1  Soru2  Soru2.1  Soru3  Soru3.1  Soru4  Soru5  Soru5.1  Soru6  Soru7  \\\n",
       "0    2.0   26.0        1    5.0      2.0    1.0    NaN      NaN    2.0    4.0   \n",
       "1    2.0   66.0        3    6.0      3.0    3.0    3.0      2.0    1.0    3.0   \n",
       "2    2.0   52.0        3    6.0      3.0    3.0    4.0      2.0    1.0    2.0   \n",
       "3    2.0   38.0        2    5.0      2.0    3.0    2.0      1.0    1.0    2.0   \n",
       "4    2.0   42.0        2    3.0      1.0    3.0    6.0      3.0    2.0    4.0   \n",
       "\n",
       "   Soru8  Soru9  \n",
       "0    4.0    NaN  \n",
       "1    9.0    NaN  \n",
       "2    4.0    2.0  \n",
       "3    2.0    2.0  \n",
       "4    4.0    NaN  "
      ]
     },
     "execution_count": 11,
     "metadata": {},
     "output_type": "execute_result"
    }
   ],
   "source": [
    "df.iloc[:5,:20]"
   ]
  },
  {
   "cell_type": "code",
   "execution_count": 12,
   "id": "3c2a8817",
   "metadata": {},
   "outputs": [
    {
     "data": {
      "text/html": [
       "<div>\n",
       "<style scoped>\n",
       "    .dataframe tbody tr th:only-of-type {\n",
       "        vertical-align: middle;\n",
       "    }\n",
       "\n",
       "    .dataframe tbody tr th {\n",
       "        vertical-align: top;\n",
       "    }\n",
       "\n",
       "    .dataframe thead th {\n",
       "        text-align: right;\n",
       "    }\n",
       "</style>\n",
       "<table border=\"1\" class=\"dataframe\">\n",
       "  <thead>\n",
       "    <tr style=\"text-align: right;\">\n",
       "      <th></th>\n",
       "      <th>Soru10</th>\n",
       "      <th>Soru14</th>\n",
       "      <th>Soru15</th>\n",
       "      <th>Soru16.1</th>\n",
       "      <th>Soru16.2</th>\n",
       "      <th>Soru16.3</th>\n",
       "      <th>Soru16.4</th>\n",
       "      <th>Soru17</th>\n",
       "      <th>Soru18</th>\n",
       "      <th>Soru18.1</th>\n",
       "      <th>Soru19.1</th>\n",
       "      <th>Soru19.2</th>\n",
       "      <th>Soru19.3</th>\n",
       "      <th>Soru19.4</th>\n",
       "      <th>Soru19.5</th>\n",
       "      <th>Soru19.6</th>\n",
       "      <th>Soru19.7</th>\n",
       "      <th>Soru19.8</th>\n",
       "      <th>Soru19.9</th>\n",
       "      <th>Soru19.10</th>\n",
       "    </tr>\n",
       "  </thead>\n",
       "  <tbody>\n",
       "    <tr>\n",
       "      <th>0</th>\n",
       "      <td>1.0</td>\n",
       "      <td>3.0</td>\n",
       "      <td>5.0</td>\n",
       "      <td>2</td>\n",
       "      <td>2</td>\n",
       "      <td>1</td>\n",
       "      <td>2</td>\n",
       "      <td>1.0</td>\n",
       "      <td>3000000</td>\n",
       "      <td>1.0</td>\n",
       "      <td>2</td>\n",
       "      <td>2</td>\n",
       "      <td>2</td>\n",
       "      <td>2</td>\n",
       "      <td>2</td>\n",
       "      <td>2</td>\n",
       "      <td>2</td>\n",
       "      <td>2</td>\n",
       "      <td>2</td>\n",
       "      <td>2</td>\n",
       "    </tr>\n",
       "    <tr>\n",
       "      <th>1</th>\n",
       "      <td>NaN</td>\n",
       "      <td>3.0</td>\n",
       "      <td>4.0</td>\n",
       "      <td>2</td>\n",
       "      <td>1</td>\n",
       "      <td>2</td>\n",
       "      <td>2</td>\n",
       "      <td>4.0</td>\n",
       "      <td>1000000</td>\n",
       "      <td>1.0</td>\n",
       "      <td>2</td>\n",
       "      <td>2</td>\n",
       "      <td>2</td>\n",
       "      <td>2</td>\n",
       "      <td>2</td>\n",
       "      <td>2</td>\n",
       "      <td>2</td>\n",
       "      <td>2</td>\n",
       "      <td>2</td>\n",
       "      <td>1</td>\n",
       "    </tr>\n",
       "    <tr>\n",
       "      <th>2</th>\n",
       "      <td>2.0</td>\n",
       "      <td>2.0</td>\n",
       "      <td>2.0</td>\n",
       "      <td>2</td>\n",
       "      <td>1</td>\n",
       "      <td>2</td>\n",
       "      <td>2</td>\n",
       "      <td>5.0</td>\n",
       "      <td>250000</td>\n",
       "      <td>1.0</td>\n",
       "      <td>2</td>\n",
       "      <td>2</td>\n",
       "      <td>2</td>\n",
       "      <td>2</td>\n",
       "      <td>2</td>\n",
       "      <td>2</td>\n",
       "      <td>2</td>\n",
       "      <td>2</td>\n",
       "      <td>2</td>\n",
       "      <td>2</td>\n",
       "    </tr>\n",
       "    <tr>\n",
       "      <th>3</th>\n",
       "      <td>1.0</td>\n",
       "      <td>3.0</td>\n",
       "      <td>4.0</td>\n",
       "      <td>2</td>\n",
       "      <td>1</td>\n",
       "      <td>2</td>\n",
       "      <td>2</td>\n",
       "      <td>2.0</td>\n",
       "      <td>200000</td>\n",
       "      <td>1.0</td>\n",
       "      <td>1</td>\n",
       "      <td>2</td>\n",
       "      <td>2</td>\n",
       "      <td>2</td>\n",
       "      <td>2</td>\n",
       "      <td>2</td>\n",
       "      <td>2</td>\n",
       "      <td>2</td>\n",
       "      <td>2</td>\n",
       "      <td>2</td>\n",
       "    </tr>\n",
       "    <tr>\n",
       "      <th>4</th>\n",
       "      <td>2.0</td>\n",
       "      <td>2.0</td>\n",
       "      <td>4.0</td>\n",
       "      <td>1</td>\n",
       "      <td>2</td>\n",
       "      <td>2</td>\n",
       "      <td>2</td>\n",
       "      <td>3.0</td>\n",
       "      <td>150000</td>\n",
       "      <td>1.0</td>\n",
       "      <td>2</td>\n",
       "      <td>2</td>\n",
       "      <td>1</td>\n",
       "      <td>2</td>\n",
       "      <td>2</td>\n",
       "      <td>2</td>\n",
       "      <td>2</td>\n",
       "      <td>2</td>\n",
       "      <td>2</td>\n",
       "      <td>2</td>\n",
       "    </tr>\n",
       "  </tbody>\n",
       "</table>\n",
       "</div>"
      ],
      "text/plain": [
       "   Soru10  Soru14  Soru15  Soru16.1  Soru16.2  Soru16.3  Soru16.4  Soru17  \\\n",
       "0     1.0     3.0     5.0         2         2         1         2     1.0   \n",
       "1     NaN     3.0     4.0         2         1         2         2     4.0   \n",
       "2     2.0     2.0     2.0         2         1         2         2     5.0   \n",
       "3     1.0     3.0     4.0         2         1         2         2     2.0   \n",
       "4     2.0     2.0     4.0         1         2         2         2     3.0   \n",
       "\n",
       "    Soru18  Soru18.1  Soru19.1  Soru19.2  Soru19.3  Soru19.4  Soru19.5  \\\n",
       "0  3000000       1.0         2         2         2         2         2   \n",
       "1  1000000       1.0         2         2         2         2         2   \n",
       "2   250000       1.0         2         2         2         2         2   \n",
       "3   200000       1.0         1         2         2         2         2   \n",
       "4   150000       1.0         2         2         1         2         2   \n",
       "\n",
       "   Soru19.6  Soru19.7  Soru19.8  Soru19.9  Soru19.10  \n",
       "0         2         2         2         2          2  \n",
       "1         2         2         2         2          1  \n",
       "2         2         2         2         2          2  \n",
       "3         2         2         2         2          2  \n",
       "4         2         2         2         2          2  "
      ]
     },
     "execution_count": 12,
     "metadata": {},
     "output_type": "execute_result"
    }
   ],
   "source": [
    "df.iloc[:5,20:40]"
   ]
  },
  {
   "cell_type": "code",
   "execution_count": 13,
   "id": "abe787e9",
   "metadata": {},
   "outputs": [
    {
     "data": {
      "text/html": [
       "<div>\n",
       "<style scoped>\n",
       "    .dataframe tbody tr th:only-of-type {\n",
       "        vertical-align: middle;\n",
       "    }\n",
       "\n",
       "    .dataframe tbody tr th {\n",
       "        vertical-align: top;\n",
       "    }\n",
       "\n",
       "    .dataframe thead th {\n",
       "        text-align: right;\n",
       "    }\n",
       "</style>\n",
       "<table border=\"1\" class=\"dataframe\">\n",
       "  <thead>\n",
       "    <tr style=\"text-align: right;\">\n",
       "      <th></th>\n",
       "      <th>Soru19.11</th>\n",
       "      <th>Soru20.1</th>\n",
       "      <th>Soru20.2</th>\n",
       "      <th>Soru20.3</th>\n",
       "      <th>Soru20.4</th>\n",
       "      <th>Soru20.5</th>\n",
       "      <th>Soru20.6</th>\n",
       "      <th>Soru20.7</th>\n",
       "      <th>Soru20.8</th>\n",
       "      <th>Soru20.9</th>\n",
       "      <th>Soru20.10</th>\n",
       "      <th>Soru20.11</th>\n",
       "      <th>Soru21</th>\n",
       "      <th>Soru22.1</th>\n",
       "      <th>Soru22.2</th>\n",
       "      <th>Soru22.3</th>\n",
       "      <th>Soru22.4</th>\n",
       "      <th>Soru22.5</th>\n",
       "      <th>Soru22.6</th>\n",
       "      <th>Soru22.7</th>\n",
       "    </tr>\n",
       "  </thead>\n",
       "  <tbody>\n",
       "    <tr>\n",
       "      <th>0</th>\n",
       "      <td>1</td>\n",
       "      <td>2</td>\n",
       "      <td>2</td>\n",
       "      <td>2</td>\n",
       "      <td>2</td>\n",
       "      <td>2</td>\n",
       "      <td>2</td>\n",
       "      <td>2</td>\n",
       "      <td>2</td>\n",
       "      <td>2</td>\n",
       "      <td>2</td>\n",
       "      <td>1</td>\n",
       "      <td>1.0</td>\n",
       "      <td>1</td>\n",
       "      <td>2</td>\n",
       "      <td>2</td>\n",
       "      <td>2</td>\n",
       "      <td>2</td>\n",
       "      <td>2</td>\n",
       "      <td>2</td>\n",
       "    </tr>\n",
       "    <tr>\n",
       "      <th>1</th>\n",
       "      <td>2</td>\n",
       "      <td>2</td>\n",
       "      <td>2</td>\n",
       "      <td>2</td>\n",
       "      <td>2</td>\n",
       "      <td>2</td>\n",
       "      <td>2</td>\n",
       "      <td>2</td>\n",
       "      <td>2</td>\n",
       "      <td>2</td>\n",
       "      <td>2</td>\n",
       "      <td>1</td>\n",
       "      <td>2.0</td>\n",
       "      <td>2</td>\n",
       "      <td>1</td>\n",
       "      <td>2</td>\n",
       "      <td>2</td>\n",
       "      <td>2</td>\n",
       "      <td>2</td>\n",
       "      <td>2</td>\n",
       "    </tr>\n",
       "    <tr>\n",
       "      <th>2</th>\n",
       "      <td>1</td>\n",
       "      <td>2</td>\n",
       "      <td>1</td>\n",
       "      <td>2</td>\n",
       "      <td>2</td>\n",
       "      <td>2</td>\n",
       "      <td>2</td>\n",
       "      <td>2</td>\n",
       "      <td>2</td>\n",
       "      <td>2</td>\n",
       "      <td>2</td>\n",
       "      <td>2</td>\n",
       "      <td>2.0</td>\n",
       "      <td>1</td>\n",
       "      <td>1</td>\n",
       "      <td>2</td>\n",
       "      <td>2</td>\n",
       "      <td>2</td>\n",
       "      <td>2</td>\n",
       "      <td>2</td>\n",
       "    </tr>\n",
       "    <tr>\n",
       "      <th>3</th>\n",
       "      <td>2</td>\n",
       "      <td>2</td>\n",
       "      <td>2</td>\n",
       "      <td>2</td>\n",
       "      <td>2</td>\n",
       "      <td>2</td>\n",
       "      <td>2</td>\n",
       "      <td>2</td>\n",
       "      <td>2</td>\n",
       "      <td>2</td>\n",
       "      <td>2</td>\n",
       "      <td>1</td>\n",
       "      <td>2.0</td>\n",
       "      <td>1</td>\n",
       "      <td>2</td>\n",
       "      <td>2</td>\n",
       "      <td>2</td>\n",
       "      <td>2</td>\n",
       "      <td>2</td>\n",
       "      <td>2</td>\n",
       "    </tr>\n",
       "    <tr>\n",
       "      <th>4</th>\n",
       "      <td>2</td>\n",
       "      <td>2</td>\n",
       "      <td>2</td>\n",
       "      <td>2</td>\n",
       "      <td>2</td>\n",
       "      <td>2</td>\n",
       "      <td>2</td>\n",
       "      <td>2</td>\n",
       "      <td>2</td>\n",
       "      <td>2</td>\n",
       "      <td>2</td>\n",
       "      <td>1</td>\n",
       "      <td>1.0</td>\n",
       "      <td>2</td>\n",
       "      <td>2</td>\n",
       "      <td>2</td>\n",
       "      <td>1</td>\n",
       "      <td>2</td>\n",
       "      <td>2</td>\n",
       "      <td>2</td>\n",
       "    </tr>\n",
       "  </tbody>\n",
       "</table>\n",
       "</div>"
      ],
      "text/plain": [
       "   Soru19.11  Soru20.1  Soru20.2  Soru20.3  Soru20.4  Soru20.5  Soru20.6  \\\n",
       "0          1         2         2         2         2         2         2   \n",
       "1          2         2         2         2         2         2         2   \n",
       "2          1         2         1         2         2         2         2   \n",
       "3          2         2         2         2         2         2         2   \n",
       "4          2         2         2         2         2         2         2   \n",
       "\n",
       "   Soru20.7  Soru20.8  Soru20.9  Soru20.10  Soru20.11  Soru21  Soru22.1  \\\n",
       "0         2         2         2          2          1     1.0         1   \n",
       "1         2         2         2          2          1     2.0         2   \n",
       "2         2         2         2          2          2     2.0         1   \n",
       "3         2         2         2          2          1     2.0         1   \n",
       "4         2         2         2          2          1     1.0         2   \n",
       "\n",
       "   Soru22.2  Soru22.3  Soru22.4  Soru22.5  Soru22.6  Soru22.7  \n",
       "0         2         2         2         2         2         2  \n",
       "1         1         2         2         2         2         2  \n",
       "2         1         2         2         2         2         2  \n",
       "3         2         2         2         2         2         2  \n",
       "4         2         2         1         2         2         2  "
      ]
     },
     "execution_count": 13,
     "metadata": {},
     "output_type": "execute_result"
    }
   ],
   "source": [
    "df.iloc[:5,40:60]"
   ]
  },
  {
   "cell_type": "code",
   "execution_count": 14,
   "id": "e85d0c1c",
   "metadata": {},
   "outputs": [
    {
     "data": {
      "text/html": [
       "<div>\n",
       "<style scoped>\n",
       "    .dataframe tbody tr th:only-of-type {\n",
       "        vertical-align: middle;\n",
       "    }\n",
       "\n",
       "    .dataframe tbody tr th {\n",
       "        vertical-align: top;\n",
       "    }\n",
       "\n",
       "    .dataframe thead th {\n",
       "        text-align: right;\n",
       "    }\n",
       "</style>\n",
       "<table border=\"1\" class=\"dataframe\">\n",
       "  <thead>\n",
       "    <tr style=\"text-align: right;\">\n",
       "      <th></th>\n",
       "      <th>Soru23Çocuk</th>\n",
       "      <th>Soru23Şartlı</th>\n",
       "      <th>Soru23Hamilelik</th>\n",
       "      <th>Soru23YAşlı</th>\n",
       "      <th>Soru23Dul</th>\n",
       "      <th>Soru23Sakatlık</th>\n",
       "      <th>Soru23Yakacak</th>\n",
       "      <th>Soru23Diğer</th>\n",
       "      <th>Soru24</th>\n",
       "      <th>Soru25</th>\n",
       "      <th>Soru26</th>\n",
       "      <th>Soru27</th>\n",
       "      <th>Soru28</th>\n",
       "      <th>Soru29</th>\n",
       "      <th>Soru30</th>\n",
       "      <th>Soru31</th>\n",
       "      <th>Soru32</th>\n",
       "      <th>Soru39</th>\n",
       "      <th>Soru40</th>\n",
       "      <th>Soru41</th>\n",
       "    </tr>\n",
       "  </thead>\n",
       "  <tbody>\n",
       "    <tr>\n",
       "      <th>0</th>\n",
       "      <td>2</td>\n",
       "      <td>2</td>\n",
       "      <td>2</td>\n",
       "      <td>2</td>\n",
       "      <td>2</td>\n",
       "      <td>2</td>\n",
       "      <td>2</td>\n",
       "      <td>2</td>\n",
       "      <td>2.0</td>\n",
       "      <td>3.0</td>\n",
       "      <td>3.0</td>\n",
       "      <td>3.0</td>\n",
       "      <td>3.0</td>\n",
       "      <td>3.0</td>\n",
       "      <td>2.0</td>\n",
       "      <td>1.0</td>\n",
       "      <td>1.0</td>\n",
       "      <td>4.0</td>\n",
       "      <td>1.0</td>\n",
       "      <td>8.0</td>\n",
       "    </tr>\n",
       "    <tr>\n",
       "      <th>1</th>\n",
       "      <td>2</td>\n",
       "      <td>2</td>\n",
       "      <td>2</td>\n",
       "      <td>2</td>\n",
       "      <td>2</td>\n",
       "      <td>2</td>\n",
       "      <td>2</td>\n",
       "      <td>2</td>\n",
       "      <td>2.0</td>\n",
       "      <td>1.0</td>\n",
       "      <td>1.0</td>\n",
       "      <td>2.0</td>\n",
       "      <td>2.0</td>\n",
       "      <td>3.0</td>\n",
       "      <td>4.0</td>\n",
       "      <td>NaN</td>\n",
       "      <td>NaN</td>\n",
       "      <td>3.0</td>\n",
       "      <td>1.0</td>\n",
       "      <td>5.0</td>\n",
       "    </tr>\n",
       "    <tr>\n",
       "      <th>2</th>\n",
       "      <td>2</td>\n",
       "      <td>2</td>\n",
       "      <td>2</td>\n",
       "      <td>2</td>\n",
       "      <td>2</td>\n",
       "      <td>2</td>\n",
       "      <td>2</td>\n",
       "      <td>2</td>\n",
       "      <td>3.0</td>\n",
       "      <td>3.0</td>\n",
       "      <td>1.0</td>\n",
       "      <td>6.0</td>\n",
       "      <td>3.0</td>\n",
       "      <td>1.0</td>\n",
       "      <td>2.0</td>\n",
       "      <td>1.0</td>\n",
       "      <td>1.0</td>\n",
       "      <td>2.0</td>\n",
       "      <td>1.0</td>\n",
       "      <td>4.0</td>\n",
       "    </tr>\n",
       "    <tr>\n",
       "      <th>3</th>\n",
       "      <td>2</td>\n",
       "      <td>2</td>\n",
       "      <td>2</td>\n",
       "      <td>2</td>\n",
       "      <td>2</td>\n",
       "      <td>2</td>\n",
       "      <td>2</td>\n",
       "      <td>2</td>\n",
       "      <td>1.0</td>\n",
       "      <td>1.0</td>\n",
       "      <td>6.0</td>\n",
       "      <td>3.0</td>\n",
       "      <td>1.0</td>\n",
       "      <td>1.0</td>\n",
       "      <td>2.0</td>\n",
       "      <td>1.0</td>\n",
       "      <td>2.0</td>\n",
       "      <td>2.0</td>\n",
       "      <td>1.0</td>\n",
       "      <td>5.0</td>\n",
       "    </tr>\n",
       "    <tr>\n",
       "      <th>4</th>\n",
       "      <td>2</td>\n",
       "      <td>2</td>\n",
       "      <td>2</td>\n",
       "      <td>2</td>\n",
       "      <td>2</td>\n",
       "      <td>2</td>\n",
       "      <td>2</td>\n",
       "      <td>2</td>\n",
       "      <td>1.0</td>\n",
       "      <td>1.0</td>\n",
       "      <td>1.0</td>\n",
       "      <td>1.0</td>\n",
       "      <td>1.0</td>\n",
       "      <td>1.0</td>\n",
       "      <td>2.0</td>\n",
       "      <td>1.0</td>\n",
       "      <td>2.0</td>\n",
       "      <td>4.0</td>\n",
       "      <td>1.0</td>\n",
       "      <td>19.0</td>\n",
       "    </tr>\n",
       "  </tbody>\n",
       "</table>\n",
       "</div>"
      ],
      "text/plain": [
       "   Soru23Çocuk  Soru23Şartlı  Soru23Hamilelik  Soru23YAşlı  Soru23Dul  \\\n",
       "0            2             2                2            2          2   \n",
       "1            2             2                2            2          2   \n",
       "2            2             2                2            2          2   \n",
       "3            2             2                2            2          2   \n",
       "4            2             2                2            2          2   \n",
       "\n",
       "   Soru23Sakatlık  Soru23Yakacak  Soru23Diğer  Soru24  Soru25  Soru26  Soru27  \\\n",
       "0               2              2            2     2.0     3.0     3.0     3.0   \n",
       "1               2              2            2     2.0     1.0     1.0     2.0   \n",
       "2               2              2            2     3.0     3.0     1.0     6.0   \n",
       "3               2              2            2     1.0     1.0     6.0     3.0   \n",
       "4               2              2            2     1.0     1.0     1.0     1.0   \n",
       "\n",
       "   Soru28  Soru29  Soru30  Soru31  Soru32  Soru39  Soru40  Soru41  \n",
       "0     3.0     3.0     2.0     1.0     1.0     4.0     1.0     8.0  \n",
       "1     2.0     3.0     4.0     NaN     NaN     3.0     1.0     5.0  \n",
       "2     3.0     1.0     2.0     1.0     1.0     2.0     1.0     4.0  \n",
       "3     1.0     1.0     2.0     1.0     2.0     2.0     1.0     5.0  \n",
       "4     1.0     1.0     2.0     1.0     2.0     4.0     1.0    19.0  "
      ]
     },
     "execution_count": 14,
     "metadata": {},
     "output_type": "execute_result"
    }
   ],
   "source": [
    "df.iloc[:5,60:80]"
   ]
  },
  {
   "cell_type": "code",
   "execution_count": 15,
   "id": "64aeb890",
   "metadata": {},
   "outputs": [
    {
     "data": {
      "text/html": [
       "<div>\n",
       "<style scoped>\n",
       "    .dataframe tbody tr th:only-of-type {\n",
       "        vertical-align: middle;\n",
       "    }\n",
       "\n",
       "    .dataframe tbody tr th {\n",
       "        vertical-align: top;\n",
       "    }\n",
       "\n",
       "    .dataframe thead th {\n",
       "        text-align: right;\n",
       "    }\n",
       "</style>\n",
       "<table border=\"1\" class=\"dataframe\">\n",
       "  <thead>\n",
       "    <tr style=\"text-align: right;\">\n",
       "      <th></th>\n",
       "      <th>Soru42</th>\n",
       "      <th>Soru43</th>\n",
       "      <th>Soru44</th>\n",
       "      <th>Soru45</th>\n",
       "      <th>Soru46</th>\n",
       "      <th>Soru47</th>\n",
       "      <th>Soru48</th>\n",
       "      <th>Soru48.1</th>\n",
       "      <th>kisibasigelir</th>\n",
       "      <th>gelirdilimleri</th>\n",
       "      <th>Soru52</th>\n",
       "    </tr>\n",
       "  </thead>\n",
       "  <tbody>\n",
       "    <tr>\n",
       "      <th>0</th>\n",
       "      <td>1.0</td>\n",
       "      <td>1.0</td>\n",
       "      <td>2.0</td>\n",
       "      <td>2.0</td>\n",
       "      <td>1.0</td>\n",
       "      <td>3.0</td>\n",
       "      <td>4500.0</td>\n",
       "      <td>5</td>\n",
       "      <td>NaN</td>\n",
       "      <td>NaN</td>\n",
       "      <td>3.0</td>\n",
       "    </tr>\n",
       "    <tr>\n",
       "      <th>1</th>\n",
       "      <td>1.0</td>\n",
       "      <td>1.0</td>\n",
       "      <td>1.0</td>\n",
       "      <td>1.0</td>\n",
       "      <td>1.0</td>\n",
       "      <td>4.0</td>\n",
       "      <td>5000.0</td>\n",
       "      <td>5</td>\n",
       "      <td>1666.666667</td>\n",
       "      <td>4.0</td>\n",
       "      <td>1.0</td>\n",
       "    </tr>\n",
       "    <tr>\n",
       "      <th>2</th>\n",
       "      <td>1.0</td>\n",
       "      <td>2.0</td>\n",
       "      <td>3.0</td>\n",
       "      <td>1.0</td>\n",
       "      <td>3.0</td>\n",
       "      <td>4.0</td>\n",
       "      <td>2500.0</td>\n",
       "      <td>4</td>\n",
       "      <td>625.000000</td>\n",
       "      <td>3.0</td>\n",
       "      <td>NaN</td>\n",
       "    </tr>\n",
       "    <tr>\n",
       "      <th>3</th>\n",
       "      <td>2.0</td>\n",
       "      <td>1.0</td>\n",
       "      <td>1.0</td>\n",
       "      <td>3.0</td>\n",
       "      <td>2.0</td>\n",
       "      <td>2.0</td>\n",
       "      <td>3200.0</td>\n",
       "      <td>5</td>\n",
       "      <td>1600.000000</td>\n",
       "      <td>4.0</td>\n",
       "      <td>3.0</td>\n",
       "    </tr>\n",
       "    <tr>\n",
       "      <th>4</th>\n",
       "      <td>1.0</td>\n",
       "      <td>1.0</td>\n",
       "      <td>2.0</td>\n",
       "      <td>2.0</td>\n",
       "      <td>1.0</td>\n",
       "      <td>3.0</td>\n",
       "      <td>1000.0</td>\n",
       "      <td>2</td>\n",
       "      <td>166.666667</td>\n",
       "      <td>1.0</td>\n",
       "      <td>2.0</td>\n",
       "    </tr>\n",
       "  </tbody>\n",
       "</table>\n",
       "</div>"
      ],
      "text/plain": [
       "   Soru42  Soru43  Soru44  Soru45  Soru46  Soru47  Soru48  Soru48.1  \\\n",
       "0     1.0     1.0     2.0     2.0     1.0     3.0  4500.0         5   \n",
       "1     1.0     1.0     1.0     1.0     1.0     4.0  5000.0         5   \n",
       "2     1.0     2.0     3.0     1.0     3.0     4.0  2500.0         4   \n",
       "3     2.0     1.0     1.0     3.0     2.0     2.0  3200.0         5   \n",
       "4     1.0     1.0     2.0     2.0     1.0     3.0  1000.0         2   \n",
       "\n",
       "   kisibasigelir  gelirdilimleri  Soru52  \n",
       "0            NaN             NaN     3.0  \n",
       "1    1666.666667             4.0     1.0  \n",
       "2     625.000000             3.0     NaN  \n",
       "3    1600.000000             4.0     3.0  \n",
       "4     166.666667             1.0     2.0  "
      ]
     },
     "execution_count": 15,
     "metadata": {},
     "output_type": "execute_result"
    }
   ],
   "source": [
    "df.iloc[:5,80:]"
   ]
  },
  {
   "cell_type": "markdown",
   "id": "aa614e0a",
   "metadata": {},
   "source": [
    "### Eksik Gözlem Doldurma "
   ]
  },
  {
   "cell_type": "code",
   "execution_count": 16,
   "id": "c5628b24",
   "metadata": {},
   "outputs": [],
   "source": [
    "missing_feature = [\"Soru48\", \"Soru5.1\", \"Soru3.1\", \"Soru2\",\n",
    "    \"Soru18\", \"Soru21\", \"Soru25\", \"Soru26\", \"Soru27\", \n",
    "    \"Soru28\", \"Soru29\", \"Soru30\", \"Soru31\", \"Soru32\", \"Soru39\", \n",
    "    \"Soru40\", \"Soru41\", \"Soru42\", \"Soru43\", \"Soru45\", \n",
    "    \"Soru46\", \"Soru47\", \"Soru1\", \"Soru3\", \"Soru4\", \"Soru5\", \n",
    "    \"Soru5.1\", \"Soru6\", \"Soru7\", \"Soru8\", \"Soru9\", \"Soru10\", \n",
    "                 \"Soru14\", \"Soru15\", \"Soru17\", \"Soru18.1\", \"Soru24\", \"Soru44\", \"Soru52\"]"
   ]
  },
  {
   "cell_type": "code",
   "execution_count": 17,
   "id": "4278dc72",
   "metadata": {},
   "outputs": [
    {
     "data": {
      "text/html": [
       "<div>\n",
       "<style scoped>\n",
       "    .dataframe tbody tr th:only-of-type {\n",
       "        vertical-align: middle;\n",
       "    }\n",
       "\n",
       "    .dataframe tbody tr th {\n",
       "        vertical-align: top;\n",
       "    }\n",
       "\n",
       "    .dataframe thead th {\n",
       "        text-align: right;\n",
       "    }\n",
       "</style>\n",
       "<table border=\"1\" class=\"dataframe\">\n",
       "  <thead>\n",
       "    <tr style=\"text-align: right;\">\n",
       "      <th></th>\n",
       "      <th>Soru48</th>\n",
       "      <th>Soru5.1</th>\n",
       "      <th>Soru3.1</th>\n",
       "      <th>Soru2</th>\n",
       "      <th>Soru18</th>\n",
       "      <th>Soru21</th>\n",
       "      <th>Soru25</th>\n",
       "      <th>Soru26</th>\n",
       "      <th>Soru27</th>\n",
       "      <th>Soru28</th>\n",
       "      <th>...</th>\n",
       "      <th>Soru8</th>\n",
       "      <th>Soru9</th>\n",
       "      <th>Soru10</th>\n",
       "      <th>Soru14</th>\n",
       "      <th>Soru15</th>\n",
       "      <th>Soru17</th>\n",
       "      <th>Soru18.1</th>\n",
       "      <th>Soru24</th>\n",
       "      <th>Soru44</th>\n",
       "      <th>Soru52</th>\n",
       "    </tr>\n",
       "  </thead>\n",
       "  <tbody>\n",
       "    <tr>\n",
       "      <th>0</th>\n",
       "      <td>4500.0</td>\n",
       "      <td>NaN</td>\n",
       "      <td>2.0</td>\n",
       "      <td>26.0</td>\n",
       "      <td>3000000</td>\n",
       "      <td>1.0</td>\n",
       "      <td>3.0</td>\n",
       "      <td>3.0</td>\n",
       "      <td>3.0</td>\n",
       "      <td>3.0</td>\n",
       "      <td>...</td>\n",
       "      <td>4.0</td>\n",
       "      <td>NaN</td>\n",
       "      <td>1.0</td>\n",
       "      <td>3.0</td>\n",
       "      <td>5.0</td>\n",
       "      <td>1.0</td>\n",
       "      <td>1.0</td>\n",
       "      <td>2.0</td>\n",
       "      <td>2.0</td>\n",
       "      <td>3.0</td>\n",
       "    </tr>\n",
       "    <tr>\n",
       "      <th>1</th>\n",
       "      <td>5000.0</td>\n",
       "      <td>2.0</td>\n",
       "      <td>3.0</td>\n",
       "      <td>66.0</td>\n",
       "      <td>1000000</td>\n",
       "      <td>2.0</td>\n",
       "      <td>1.0</td>\n",
       "      <td>1.0</td>\n",
       "      <td>2.0</td>\n",
       "      <td>2.0</td>\n",
       "      <td>...</td>\n",
       "      <td>9.0</td>\n",
       "      <td>NaN</td>\n",
       "      <td>NaN</td>\n",
       "      <td>3.0</td>\n",
       "      <td>4.0</td>\n",
       "      <td>4.0</td>\n",
       "      <td>1.0</td>\n",
       "      <td>2.0</td>\n",
       "      <td>1.0</td>\n",
       "      <td>1.0</td>\n",
       "    </tr>\n",
       "    <tr>\n",
       "      <th>2</th>\n",
       "      <td>2500.0</td>\n",
       "      <td>2.0</td>\n",
       "      <td>3.0</td>\n",
       "      <td>52.0</td>\n",
       "      <td>250000</td>\n",
       "      <td>2.0</td>\n",
       "      <td>3.0</td>\n",
       "      <td>1.0</td>\n",
       "      <td>6.0</td>\n",
       "      <td>3.0</td>\n",
       "      <td>...</td>\n",
       "      <td>4.0</td>\n",
       "      <td>2.0</td>\n",
       "      <td>2.0</td>\n",
       "      <td>2.0</td>\n",
       "      <td>2.0</td>\n",
       "      <td>5.0</td>\n",
       "      <td>1.0</td>\n",
       "      <td>3.0</td>\n",
       "      <td>3.0</td>\n",
       "      <td>NaN</td>\n",
       "    </tr>\n",
       "    <tr>\n",
       "      <th>3</th>\n",
       "      <td>3200.0</td>\n",
       "      <td>1.0</td>\n",
       "      <td>2.0</td>\n",
       "      <td>38.0</td>\n",
       "      <td>200000</td>\n",
       "      <td>2.0</td>\n",
       "      <td>1.0</td>\n",
       "      <td>6.0</td>\n",
       "      <td>3.0</td>\n",
       "      <td>1.0</td>\n",
       "      <td>...</td>\n",
       "      <td>2.0</td>\n",
       "      <td>2.0</td>\n",
       "      <td>1.0</td>\n",
       "      <td>3.0</td>\n",
       "      <td>4.0</td>\n",
       "      <td>2.0</td>\n",
       "      <td>1.0</td>\n",
       "      <td>1.0</td>\n",
       "      <td>1.0</td>\n",
       "      <td>3.0</td>\n",
       "    </tr>\n",
       "    <tr>\n",
       "      <th>4</th>\n",
       "      <td>1000.0</td>\n",
       "      <td>3.0</td>\n",
       "      <td>1.0</td>\n",
       "      <td>42.0</td>\n",
       "      <td>150000</td>\n",
       "      <td>1.0</td>\n",
       "      <td>1.0</td>\n",
       "      <td>1.0</td>\n",
       "      <td>1.0</td>\n",
       "      <td>1.0</td>\n",
       "      <td>...</td>\n",
       "      <td>4.0</td>\n",
       "      <td>NaN</td>\n",
       "      <td>2.0</td>\n",
       "      <td>2.0</td>\n",
       "      <td>4.0</td>\n",
       "      <td>3.0</td>\n",
       "      <td>1.0</td>\n",
       "      <td>1.0</td>\n",
       "      <td>2.0</td>\n",
       "      <td>2.0</td>\n",
       "    </tr>\n",
       "  </tbody>\n",
       "</table>\n",
       "<p>5 rows × 39 columns</p>\n",
       "</div>"
      ],
      "text/plain": [
       "   Soru48  Soru5.1  Soru3.1  Soru2   Soru18  Soru21  Soru25  Soru26  Soru27  \\\n",
       "0  4500.0      NaN      2.0   26.0  3000000     1.0     3.0     3.0     3.0   \n",
       "1  5000.0      2.0      3.0   66.0  1000000     2.0     1.0     1.0     2.0   \n",
       "2  2500.0      2.0      3.0   52.0   250000     2.0     3.0     1.0     6.0   \n",
       "3  3200.0      1.0      2.0   38.0   200000     2.0     1.0     6.0     3.0   \n",
       "4  1000.0      3.0      1.0   42.0   150000     1.0     1.0     1.0     1.0   \n",
       "\n",
       "   Soru28  ...  Soru8  Soru9  Soru10  Soru14  Soru15  Soru17  Soru18.1  \\\n",
       "0     3.0  ...    4.0    NaN     1.0     3.0     5.0     1.0       1.0   \n",
       "1     2.0  ...    9.0    NaN     NaN     3.0     4.0     4.0       1.0   \n",
       "2     3.0  ...    4.0    2.0     2.0     2.0     2.0     5.0       1.0   \n",
       "3     1.0  ...    2.0    2.0     1.0     3.0     4.0     2.0       1.0   \n",
       "4     1.0  ...    4.0    NaN     2.0     2.0     4.0     3.0       1.0   \n",
       "\n",
       "   Soru24  Soru44  Soru52  \n",
       "0     2.0     2.0     3.0  \n",
       "1     2.0     1.0     1.0  \n",
       "2     3.0     3.0     NaN  \n",
       "3     1.0     1.0     3.0  \n",
       "4     1.0     2.0     2.0  \n",
       "\n",
       "[5 rows x 39 columns]"
      ]
     },
     "execution_count": 17,
     "metadata": {},
     "output_type": "execute_result"
    }
   ],
   "source": [
    "df_missing = df.loc[:,missing_feature]\n",
    "df_missing.head()"
   ]
  },
  {
   "cell_type": "code",
   "execution_count": 18,
   "id": "50051ae0",
   "metadata": {},
   "outputs": [
    {
     "data": {
      "text/plain": [
       "Soru48      111\n",
       "Soru5.1     102\n",
       "Soru3.1      15\n",
       "Soru2         4\n",
       "Soru18        6\n",
       "Soru21      285\n",
       "Soru25       29\n",
       "Soru26       36\n",
       "Soru27       41\n",
       "Soru28       35\n",
       "Soru29      179\n",
       "Soru30       12\n",
       "Soru31      116\n",
       "Soru32       83\n",
       "Soru39      165\n",
       "Soru40       54\n",
       "Soru41      297\n",
       "Soru42       14\n",
       "Soru43       19\n",
       "Soru45       13\n",
       "Soru46       30\n",
       "Soru47       51\n",
       "Soru1        16\n",
       "Soru3        15\n",
       "Soru4         8\n",
       "Soru5       102\n",
       "Soru5.1     102\n",
       "Soru6        52\n",
       "Soru7       134\n",
       "Soru8        29\n",
       "Soru9       209\n",
       "Soru10      362\n",
       "Soru14       20\n",
       "Soru15        8\n",
       "Soru17       80\n",
       "Soru18.1    254\n",
       "Soru24       64\n",
       "Soru44       40\n",
       "Soru52      251\n",
       "dtype: int64"
      ]
     },
     "execution_count": 18,
     "metadata": {},
     "output_type": "execute_result"
    }
   ],
   "source": [
    "df_missing.isnull().sum()"
   ]
  },
  {
   "cell_type": "code",
   "execution_count": 19,
   "id": "0d49728c",
   "metadata": {},
   "outputs": [],
   "source": [
    "df_missing[\"Soru18\"] = df_missing.loc[:,\"Soru18\"].replace(\"VAR\", np.nan)"
   ]
  },
  {
   "cell_type": "code",
   "execution_count": 20,
   "id": "c0c00904",
   "metadata": {},
   "outputs": [],
   "source": [
    "df_missing[\"Soru18\"] = df_missing.loc[:,\"Soru18\"].replace(\"BORCU YOK\", 0)"
   ]
  },
  {
   "cell_type": "code",
   "execution_count": 21,
   "id": "d378cb5f",
   "metadata": {},
   "outputs": [],
   "source": [
    "df_missing = df_missing.replace([\"cy\",\"CY\",\"var\"],np.nan)"
   ]
  },
  {
   "cell_type": "code",
   "execution_count": 22,
   "id": "3781d5be",
   "metadata": {},
   "outputs": [],
   "source": [
    "df_missing_columns = df_missing.columns.tolist()"
   ]
  },
  {
   "cell_type": "code",
   "execution_count": 23,
   "id": "0a462fa3",
   "metadata": {},
   "outputs": [
    {
     "data": {
      "text/html": [
       "<div>\n",
       "<style scoped>\n",
       "    .dataframe tbody tr th:only-of-type {\n",
       "        vertical-align: middle;\n",
       "    }\n",
       "\n",
       "    .dataframe tbody tr th {\n",
       "        vertical-align: top;\n",
       "    }\n",
       "\n",
       "    .dataframe thead th {\n",
       "        text-align: right;\n",
       "    }\n",
       "</style>\n",
       "<table border=\"1\" class=\"dataframe\">\n",
       "  <thead>\n",
       "    <tr style=\"text-align: right;\">\n",
       "      <th></th>\n",
       "      <th>Soru48</th>\n",
       "      <th>Soru5.1</th>\n",
       "      <th>Soru3.1</th>\n",
       "      <th>Soru2</th>\n",
       "      <th>Soru18</th>\n",
       "      <th>Soru21</th>\n",
       "      <th>Soru25</th>\n",
       "      <th>Soru26</th>\n",
       "      <th>Soru27</th>\n",
       "      <th>Soru28</th>\n",
       "      <th>...</th>\n",
       "      <th>Soru8</th>\n",
       "      <th>Soru9</th>\n",
       "      <th>Soru10</th>\n",
       "      <th>Soru14</th>\n",
       "      <th>Soru15</th>\n",
       "      <th>Soru17</th>\n",
       "      <th>Soru18.1</th>\n",
       "      <th>Soru24</th>\n",
       "      <th>Soru44</th>\n",
       "      <th>Soru52</th>\n",
       "    </tr>\n",
       "  </thead>\n",
       "  <tbody>\n",
       "    <tr>\n",
       "      <th>0</th>\n",
       "      <td>4500.0</td>\n",
       "      <td>NaN</td>\n",
       "      <td>2.0</td>\n",
       "      <td>26.0</td>\n",
       "      <td>3000000</td>\n",
       "      <td>1.0</td>\n",
       "      <td>3.0</td>\n",
       "      <td>3.0</td>\n",
       "      <td>3.0</td>\n",
       "      <td>3.0</td>\n",
       "      <td>...</td>\n",
       "      <td>4.0</td>\n",
       "      <td>NaN</td>\n",
       "      <td>1.0</td>\n",
       "      <td>3.0</td>\n",
       "      <td>5.0</td>\n",
       "      <td>1.0</td>\n",
       "      <td>1.0</td>\n",
       "      <td>2.0</td>\n",
       "      <td>2.0</td>\n",
       "      <td>3.0</td>\n",
       "    </tr>\n",
       "    <tr>\n",
       "      <th>1</th>\n",
       "      <td>5000.0</td>\n",
       "      <td>2.0</td>\n",
       "      <td>3.0</td>\n",
       "      <td>66.0</td>\n",
       "      <td>1000000</td>\n",
       "      <td>2.0</td>\n",
       "      <td>1.0</td>\n",
       "      <td>1.0</td>\n",
       "      <td>2.0</td>\n",
       "      <td>2.0</td>\n",
       "      <td>...</td>\n",
       "      <td>9.0</td>\n",
       "      <td>NaN</td>\n",
       "      <td>NaN</td>\n",
       "      <td>3.0</td>\n",
       "      <td>4.0</td>\n",
       "      <td>4.0</td>\n",
       "      <td>1.0</td>\n",
       "      <td>2.0</td>\n",
       "      <td>1.0</td>\n",
       "      <td>1.0</td>\n",
       "    </tr>\n",
       "    <tr>\n",
       "      <th>2</th>\n",
       "      <td>2500.0</td>\n",
       "      <td>2.0</td>\n",
       "      <td>3.0</td>\n",
       "      <td>52.0</td>\n",
       "      <td>250000</td>\n",
       "      <td>2.0</td>\n",
       "      <td>3.0</td>\n",
       "      <td>1.0</td>\n",
       "      <td>6.0</td>\n",
       "      <td>3.0</td>\n",
       "      <td>...</td>\n",
       "      <td>4.0</td>\n",
       "      <td>2.0</td>\n",
       "      <td>2.0</td>\n",
       "      <td>2.0</td>\n",
       "      <td>2.0</td>\n",
       "      <td>5.0</td>\n",
       "      <td>1.0</td>\n",
       "      <td>3.0</td>\n",
       "      <td>3.0</td>\n",
       "      <td>NaN</td>\n",
       "    </tr>\n",
       "    <tr>\n",
       "      <th>3</th>\n",
       "      <td>3200.0</td>\n",
       "      <td>1.0</td>\n",
       "      <td>2.0</td>\n",
       "      <td>38.0</td>\n",
       "      <td>200000</td>\n",
       "      <td>2.0</td>\n",
       "      <td>1.0</td>\n",
       "      <td>6.0</td>\n",
       "      <td>3.0</td>\n",
       "      <td>1.0</td>\n",
       "      <td>...</td>\n",
       "      <td>2.0</td>\n",
       "      <td>2.0</td>\n",
       "      <td>1.0</td>\n",
       "      <td>3.0</td>\n",
       "      <td>4.0</td>\n",
       "      <td>2.0</td>\n",
       "      <td>1.0</td>\n",
       "      <td>1.0</td>\n",
       "      <td>1.0</td>\n",
       "      <td>3.0</td>\n",
       "    </tr>\n",
       "    <tr>\n",
       "      <th>4</th>\n",
       "      <td>1000.0</td>\n",
       "      <td>3.0</td>\n",
       "      <td>1.0</td>\n",
       "      <td>42.0</td>\n",
       "      <td>150000</td>\n",
       "      <td>1.0</td>\n",
       "      <td>1.0</td>\n",
       "      <td>1.0</td>\n",
       "      <td>1.0</td>\n",
       "      <td>1.0</td>\n",
       "      <td>...</td>\n",
       "      <td>4.0</td>\n",
       "      <td>NaN</td>\n",
       "      <td>2.0</td>\n",
       "      <td>2.0</td>\n",
       "      <td>4.0</td>\n",
       "      <td>3.0</td>\n",
       "      <td>1.0</td>\n",
       "      <td>1.0</td>\n",
       "      <td>2.0</td>\n",
       "      <td>2.0</td>\n",
       "    </tr>\n",
       "    <tr>\n",
       "      <th>...</th>\n",
       "      <td>...</td>\n",
       "      <td>...</td>\n",
       "      <td>...</td>\n",
       "      <td>...</td>\n",
       "      <td>...</td>\n",
       "      <td>...</td>\n",
       "      <td>...</td>\n",
       "      <td>...</td>\n",
       "      <td>...</td>\n",
       "      <td>...</td>\n",
       "      <td>...</td>\n",
       "      <td>...</td>\n",
       "      <td>...</td>\n",
       "      <td>...</td>\n",
       "      <td>...</td>\n",
       "      <td>...</td>\n",
       "      <td>...</td>\n",
       "      <td>...</td>\n",
       "      <td>...</td>\n",
       "      <td>...</td>\n",
       "      <td>...</td>\n",
       "    </tr>\n",
       "    <tr>\n",
       "      <th>2661</th>\n",
       "      <td>6000.0</td>\n",
       "      <td>2.0</td>\n",
       "      <td>3.0</td>\n",
       "      <td>32.0</td>\n",
       "      <td>NaN</td>\n",
       "      <td>2.0</td>\n",
       "      <td>4.0</td>\n",
       "      <td>4.0</td>\n",
       "      <td>2.0</td>\n",
       "      <td>2.0</td>\n",
       "      <td>...</td>\n",
       "      <td>1.0</td>\n",
       "      <td>2.0</td>\n",
       "      <td>1.0</td>\n",
       "      <td>3.0</td>\n",
       "      <td>3.0</td>\n",
       "      <td>4.0</td>\n",
       "      <td>1.0</td>\n",
       "      <td>4.0</td>\n",
       "      <td>1.0</td>\n",
       "      <td>3.0</td>\n",
       "    </tr>\n",
       "    <tr>\n",
       "      <th>2662</th>\n",
       "      <td>1300.0</td>\n",
       "      <td>1.0</td>\n",
       "      <td>3.0</td>\n",
       "      <td>26.0</td>\n",
       "      <td>NaN</td>\n",
       "      <td>1.0</td>\n",
       "      <td>3.0</td>\n",
       "      <td>4.0</td>\n",
       "      <td>2.0</td>\n",
       "      <td>2.0</td>\n",
       "      <td>...</td>\n",
       "      <td>2.0</td>\n",
       "      <td>1.0</td>\n",
       "      <td>1.0</td>\n",
       "      <td>2.0</td>\n",
       "      <td>2.0</td>\n",
       "      <td>2.0</td>\n",
       "      <td>1.0</td>\n",
       "      <td>2.0</td>\n",
       "      <td>1.0</td>\n",
       "      <td>2.0</td>\n",
       "    </tr>\n",
       "    <tr>\n",
       "      <th>2663</th>\n",
       "      <td>NaN</td>\n",
       "      <td>2.0</td>\n",
       "      <td>3.0</td>\n",
       "      <td>54.0</td>\n",
       "      <td>NaN</td>\n",
       "      <td>1.0</td>\n",
       "      <td>3.0</td>\n",
       "      <td>4.0</td>\n",
       "      <td>4.0</td>\n",
       "      <td>1.0</td>\n",
       "      <td>...</td>\n",
       "      <td>9.0</td>\n",
       "      <td>7.0</td>\n",
       "      <td>NaN</td>\n",
       "      <td>3.0</td>\n",
       "      <td>3.0</td>\n",
       "      <td>NaN</td>\n",
       "      <td>1.0</td>\n",
       "      <td>3.0</td>\n",
       "      <td>NaN</td>\n",
       "      <td>3.0</td>\n",
       "    </tr>\n",
       "    <tr>\n",
       "      <th>2664</th>\n",
       "      <td>2000.0</td>\n",
       "      <td>2.0</td>\n",
       "      <td>2.0</td>\n",
       "      <td>47.0</td>\n",
       "      <td>NaN</td>\n",
       "      <td>1.0</td>\n",
       "      <td>6.0</td>\n",
       "      <td>6.0</td>\n",
       "      <td>6.0</td>\n",
       "      <td>6.0</td>\n",
       "      <td>...</td>\n",
       "      <td>9.0</td>\n",
       "      <td>NaN</td>\n",
       "      <td>NaN</td>\n",
       "      <td>1.0</td>\n",
       "      <td>3.0</td>\n",
       "      <td>2.0</td>\n",
       "      <td>1.0</td>\n",
       "      <td>3.0</td>\n",
       "      <td>1.0</td>\n",
       "      <td>4.0</td>\n",
       "    </tr>\n",
       "    <tr>\n",
       "      <th>2665</th>\n",
       "      <td>3500.0</td>\n",
       "      <td>2.0</td>\n",
       "      <td>2.0</td>\n",
       "      <td>55.0</td>\n",
       "      <td>NaN</td>\n",
       "      <td>2.0</td>\n",
       "      <td>6.0</td>\n",
       "      <td>6.0</td>\n",
       "      <td>4.0</td>\n",
       "      <td>6.0</td>\n",
       "      <td>...</td>\n",
       "      <td>9.0</td>\n",
       "      <td>7.0</td>\n",
       "      <td>NaN</td>\n",
       "      <td>1.0</td>\n",
       "      <td>5.0</td>\n",
       "      <td>1.0</td>\n",
       "      <td>1.0</td>\n",
       "      <td>1.0</td>\n",
       "      <td>1.0</td>\n",
       "      <td>4.0</td>\n",
       "    </tr>\n",
       "  </tbody>\n",
       "</table>\n",
       "<p>2666 rows × 39 columns</p>\n",
       "</div>"
      ],
      "text/plain": [
       "      Soru48  Soru5.1  Soru3.1  Soru2   Soru18  Soru21  Soru25  Soru26  \\\n",
       "0     4500.0      NaN      2.0   26.0  3000000     1.0     3.0     3.0   \n",
       "1     5000.0      2.0      3.0   66.0  1000000     2.0     1.0     1.0   \n",
       "2     2500.0      2.0      3.0   52.0   250000     2.0     3.0     1.0   \n",
       "3     3200.0      1.0      2.0   38.0   200000     2.0     1.0     6.0   \n",
       "4     1000.0      3.0      1.0   42.0   150000     1.0     1.0     1.0   \n",
       "...      ...      ...      ...    ...      ...     ...     ...     ...   \n",
       "2661  6000.0      2.0      3.0   32.0      NaN     2.0     4.0     4.0   \n",
       "2662  1300.0      1.0      3.0   26.0      NaN     1.0     3.0     4.0   \n",
       "2663     NaN      2.0      3.0   54.0      NaN     1.0     3.0     4.0   \n",
       "2664  2000.0      2.0      2.0   47.0      NaN     1.0     6.0     6.0   \n",
       "2665  3500.0      2.0      2.0   55.0      NaN     2.0     6.0     6.0   \n",
       "\n",
       "      Soru27  Soru28  ...  Soru8  Soru9  Soru10  Soru14  Soru15  Soru17  \\\n",
       "0        3.0     3.0  ...    4.0    NaN     1.0     3.0     5.0     1.0   \n",
       "1        2.0     2.0  ...    9.0    NaN     NaN     3.0     4.0     4.0   \n",
       "2        6.0     3.0  ...    4.0    2.0     2.0     2.0     2.0     5.0   \n",
       "3        3.0     1.0  ...    2.0    2.0     1.0     3.0     4.0     2.0   \n",
       "4        1.0     1.0  ...    4.0    NaN     2.0     2.0     4.0     3.0   \n",
       "...      ...     ...  ...    ...    ...     ...     ...     ...     ...   \n",
       "2661     2.0     2.0  ...    1.0    2.0     1.0     3.0     3.0     4.0   \n",
       "2662     2.0     2.0  ...    2.0    1.0     1.0     2.0     2.0     2.0   \n",
       "2663     4.0     1.0  ...    9.0    7.0     NaN     3.0     3.0     NaN   \n",
       "2664     6.0     6.0  ...    9.0    NaN     NaN     1.0     3.0     2.0   \n",
       "2665     4.0     6.0  ...    9.0    7.0     NaN     1.0     5.0     1.0   \n",
       "\n",
       "      Soru18.1  Soru24  Soru44  Soru52  \n",
       "0          1.0     2.0     2.0     3.0  \n",
       "1          1.0     2.0     1.0     1.0  \n",
       "2          1.0     3.0     3.0     NaN  \n",
       "3          1.0     1.0     1.0     3.0  \n",
       "4          1.0     1.0     2.0     2.0  \n",
       "...        ...     ...     ...     ...  \n",
       "2661       1.0     4.0     1.0     3.0  \n",
       "2662       1.0     2.0     1.0     2.0  \n",
       "2663       1.0     3.0     NaN     3.0  \n",
       "2664       1.0     3.0     1.0     4.0  \n",
       "2665       1.0     1.0     1.0     4.0  \n",
       "\n",
       "[2666 rows x 39 columns]"
      ]
     },
     "execution_count": 23,
     "metadata": {},
     "output_type": "execute_result"
    }
   ],
   "source": [
    "df_missing"
   ]
  },
  {
   "cell_type": "markdown",
   "id": "c3fdabf0",
   "metadata": {},
   "source": [
    "### KNN ile Doldurma "
   ]
  },
  {
   "cell_type": "code",
   "execution_count": 25,
   "id": "4f77b9d8",
   "metadata": {},
   "outputs": [],
   "source": [
    "from sklearn.impute import KNNImputer\n",
    "imputer = KNNImputer(n_neighbors = 10 )"
   ]
  },
  {
   "cell_type": "code",
   "execution_count": 26,
   "id": "f55fb723",
   "metadata": {},
   "outputs": [],
   "source": [
    "fill_knn = imputer.fit(df_missing)\n",
    "fill_knn = imputer.transform(df_missing)"
   ]
  },
  {
   "cell_type": "code",
   "execution_count": 27,
   "id": "58a0b1c3",
   "metadata": {},
   "outputs": [
    {
     "data": {
      "text/html": [
       "<div>\n",
       "<style scoped>\n",
       "    .dataframe tbody tr th:only-of-type {\n",
       "        vertical-align: middle;\n",
       "    }\n",
       "\n",
       "    .dataframe tbody tr th {\n",
       "        vertical-align: top;\n",
       "    }\n",
       "\n",
       "    .dataframe thead th {\n",
       "        text-align: right;\n",
       "    }\n",
       "</style>\n",
       "<table border=\"1\" class=\"dataframe\">\n",
       "  <thead>\n",
       "    <tr style=\"text-align: right;\">\n",
       "      <th></th>\n",
       "      <th>Soru48</th>\n",
       "      <th>Soru5.1</th>\n",
       "      <th>Soru3.1</th>\n",
       "      <th>Soru2</th>\n",
       "      <th>Soru18</th>\n",
       "      <th>Soru21</th>\n",
       "      <th>Soru25</th>\n",
       "      <th>Soru26</th>\n",
       "      <th>Soru27</th>\n",
       "      <th>Soru28</th>\n",
       "      <th>...</th>\n",
       "      <th>Soru8</th>\n",
       "      <th>Soru9</th>\n",
       "      <th>Soru10</th>\n",
       "      <th>Soru14</th>\n",
       "      <th>Soru15</th>\n",
       "      <th>Soru17</th>\n",
       "      <th>Soru18.1</th>\n",
       "      <th>Soru24</th>\n",
       "      <th>Soru44</th>\n",
       "      <th>Soru52</th>\n",
       "    </tr>\n",
       "  </thead>\n",
       "  <tbody>\n",
       "    <tr>\n",
       "      <th>0</th>\n",
       "      <td>4500.0</td>\n",
       "      <td>2.0</td>\n",
       "      <td>2.0</td>\n",
       "      <td>26.0</td>\n",
       "      <td>3000000.0</td>\n",
       "      <td>1.0</td>\n",
       "      <td>3.0</td>\n",
       "      <td>3.0</td>\n",
       "      <td>3.0</td>\n",
       "      <td>3.0</td>\n",
       "      <td>...</td>\n",
       "      <td>4.0</td>\n",
       "      <td>5.0</td>\n",
       "      <td>1.0</td>\n",
       "      <td>3.0</td>\n",
       "      <td>5.0</td>\n",
       "      <td>1.0</td>\n",
       "      <td>1.0</td>\n",
       "      <td>2.0</td>\n",
       "      <td>2.0</td>\n",
       "      <td>3.0</td>\n",
       "    </tr>\n",
       "    <tr>\n",
       "      <th>1</th>\n",
       "      <td>5000.0</td>\n",
       "      <td>2.0</td>\n",
       "      <td>3.0</td>\n",
       "      <td>66.0</td>\n",
       "      <td>1000000.0</td>\n",
       "      <td>2.0</td>\n",
       "      <td>1.0</td>\n",
       "      <td>1.0</td>\n",
       "      <td>2.0</td>\n",
       "      <td>2.0</td>\n",
       "      <td>...</td>\n",
       "      <td>9.0</td>\n",
       "      <td>6.0</td>\n",
       "      <td>2.0</td>\n",
       "      <td>3.0</td>\n",
       "      <td>4.0</td>\n",
       "      <td>4.0</td>\n",
       "      <td>1.0</td>\n",
       "      <td>2.0</td>\n",
       "      <td>1.0</td>\n",
       "      <td>1.0</td>\n",
       "    </tr>\n",
       "    <tr>\n",
       "      <th>2</th>\n",
       "      <td>2500.0</td>\n",
       "      <td>2.0</td>\n",
       "      <td>3.0</td>\n",
       "      <td>52.0</td>\n",
       "      <td>250000.0</td>\n",
       "      <td>2.0</td>\n",
       "      <td>3.0</td>\n",
       "      <td>1.0</td>\n",
       "      <td>6.0</td>\n",
       "      <td>3.0</td>\n",
       "      <td>...</td>\n",
       "      <td>4.0</td>\n",
       "      <td>2.0</td>\n",
       "      <td>2.0</td>\n",
       "      <td>2.0</td>\n",
       "      <td>2.0</td>\n",
       "      <td>5.0</td>\n",
       "      <td>1.0</td>\n",
       "      <td>3.0</td>\n",
       "      <td>3.0</td>\n",
       "      <td>3.0</td>\n",
       "    </tr>\n",
       "    <tr>\n",
       "      <th>3</th>\n",
       "      <td>3200.0</td>\n",
       "      <td>1.0</td>\n",
       "      <td>2.0</td>\n",
       "      <td>38.0</td>\n",
       "      <td>200000.0</td>\n",
       "      <td>2.0</td>\n",
       "      <td>1.0</td>\n",
       "      <td>6.0</td>\n",
       "      <td>3.0</td>\n",
       "      <td>1.0</td>\n",
       "      <td>...</td>\n",
       "      <td>2.0</td>\n",
       "      <td>2.0</td>\n",
       "      <td>1.0</td>\n",
       "      <td>3.0</td>\n",
       "      <td>4.0</td>\n",
       "      <td>2.0</td>\n",
       "      <td>1.0</td>\n",
       "      <td>1.0</td>\n",
       "      <td>1.0</td>\n",
       "      <td>3.0</td>\n",
       "    </tr>\n",
       "    <tr>\n",
       "      <th>4</th>\n",
       "      <td>1000.0</td>\n",
       "      <td>3.0</td>\n",
       "      <td>1.0</td>\n",
       "      <td>42.0</td>\n",
       "      <td>150000.0</td>\n",
       "      <td>1.0</td>\n",
       "      <td>1.0</td>\n",
       "      <td>1.0</td>\n",
       "      <td>1.0</td>\n",
       "      <td>1.0</td>\n",
       "      <td>...</td>\n",
       "      <td>4.0</td>\n",
       "      <td>5.0</td>\n",
       "      <td>2.0</td>\n",
       "      <td>2.0</td>\n",
       "      <td>4.0</td>\n",
       "      <td>3.0</td>\n",
       "      <td>1.0</td>\n",
       "      <td>1.0</td>\n",
       "      <td>2.0</td>\n",
       "      <td>2.0</td>\n",
       "    </tr>\n",
       "  </tbody>\n",
       "</table>\n",
       "<p>5 rows × 39 columns</p>\n",
       "</div>"
      ],
      "text/plain": [
       "   Soru48  Soru5.1  Soru3.1  Soru2     Soru18  Soru21  Soru25  Soru26  Soru27  \\\n",
       "0  4500.0      2.0      2.0   26.0  3000000.0     1.0     3.0     3.0     3.0   \n",
       "1  5000.0      2.0      3.0   66.0  1000000.0     2.0     1.0     1.0     2.0   \n",
       "2  2500.0      2.0      3.0   52.0   250000.0     2.0     3.0     1.0     6.0   \n",
       "3  3200.0      1.0      2.0   38.0   200000.0     2.0     1.0     6.0     3.0   \n",
       "4  1000.0      3.0      1.0   42.0   150000.0     1.0     1.0     1.0     1.0   \n",
       "\n",
       "   Soru28  ...  Soru8  Soru9  Soru10  Soru14  Soru15  Soru17  Soru18.1  \\\n",
       "0     3.0  ...    4.0    5.0     1.0     3.0     5.0     1.0       1.0   \n",
       "1     2.0  ...    9.0    6.0     2.0     3.0     4.0     4.0       1.0   \n",
       "2     3.0  ...    4.0    2.0     2.0     2.0     2.0     5.0       1.0   \n",
       "3     1.0  ...    2.0    2.0     1.0     3.0     4.0     2.0       1.0   \n",
       "4     1.0  ...    4.0    5.0     2.0     2.0     4.0     3.0       1.0   \n",
       "\n",
       "   Soru24  Soru44  Soru52  \n",
       "0     2.0     2.0     3.0  \n",
       "1     2.0     1.0     1.0  \n",
       "2     3.0     3.0     3.0  \n",
       "3     1.0     1.0     3.0  \n",
       "4     1.0     2.0     2.0  \n",
       "\n",
       "[5 rows x 39 columns]"
      ]
     },
     "execution_count": 27,
     "metadata": {},
     "output_type": "execute_result"
    }
   ],
   "source": [
    "knn_arr_fill = pd.DataFrame(np.round_(fill_knn, decimals = 0), columns = df_missing_columns)\n",
    "knn_arr_fill.head()"
   ]
  },
  {
   "cell_type": "code",
   "execution_count": 28,
   "id": "ee7052df",
   "metadata": {},
   "outputs": [
    {
     "data": {
      "text/plain": [
       "Soru48      0\n",
       "Soru5.1     0\n",
       "Soru3.1     0\n",
       "Soru2       0\n",
       "Soru18      0\n",
       "Soru21      0\n",
       "Soru25      0\n",
       "Soru26      0\n",
       "Soru27      0\n",
       "Soru28      0\n",
       "Soru29      0\n",
       "Soru30      0\n",
       "Soru31      0\n",
       "Soru32      0\n",
       "Soru39      0\n",
       "Soru40      0\n",
       "Soru41      0\n",
       "Soru42      0\n",
       "Soru43      0\n",
       "Soru45      0\n",
       "Soru46      0\n",
       "Soru47      0\n",
       "Soru1       0\n",
       "Soru3       0\n",
       "Soru4       0\n",
       "Soru5       0\n",
       "Soru5.1     0\n",
       "Soru6       0\n",
       "Soru7       0\n",
       "Soru8       0\n",
       "Soru9       0\n",
       "Soru10      0\n",
       "Soru14      0\n",
       "Soru15      0\n",
       "Soru17      0\n",
       "Soru18.1    0\n",
       "Soru24      0\n",
       "Soru44      0\n",
       "Soru52      0\n",
       "dtype: int64"
      ]
     },
     "execution_count": 28,
     "metadata": {},
     "output_type": "execute_result"
    }
   ],
   "source": [
    "knn_arr_fill.isnull().sum()"
   ]
  },
  {
   "cell_type": "markdown",
   "id": "297aa1ac",
   "metadata": {},
   "source": [
    "###  Random -  Forest ile Doldurma"
   ]
  },
  {
   "cell_type": "code",
   "execution_count": 29,
   "id": "df372b9d",
   "metadata": {},
   "outputs": [
    {
     "data": {
      "text/plain": [
       "['Soru48', 'Soru5.1']"
      ]
     },
     "execution_count": 29,
     "metadata": {},
     "output_type": "execute_result"
    }
   ],
   "source": [
    "df_missing_columns[:2]"
   ]
  },
  {
   "cell_type": "code",
   "execution_count": 30,
   "id": "ef1550d5",
   "metadata": {},
   "outputs": [],
   "source": [
    "rf_arr_fill = np.array(df_missing)"
   ]
  },
  {
   "cell_type": "code",
   "execution_count": 31,
   "id": "49ff854e",
   "metadata": {},
   "outputs": [],
   "source": [
    "from sklearn.experimental import enable_iterative_imputer\n",
    "from sklearn.impute import IterativeImputer"
   ]
  },
  {
   "cell_type": "code",
   "execution_count": 32,
   "id": "85c4f7b3",
   "metadata": {},
   "outputs": [
    {
     "data": {
      "text/plain": [
       "IterativeImputer(random_state=35)"
      ]
     },
     "execution_count": 32,
     "metadata": {},
     "output_type": "execute_result"
    }
   ],
   "source": [
    "imp = IterativeImputer(random_state = 35)\n",
    "imp.fit(rf_arr_fill)"
   ]
  },
  {
   "cell_type": "code",
   "execution_count": 33,
   "id": "7abc4691",
   "metadata": {},
   "outputs": [
    {
     "data": {
      "text/html": [
       "<div>\n",
       "<style scoped>\n",
       "    .dataframe tbody tr th:only-of-type {\n",
       "        vertical-align: middle;\n",
       "    }\n",
       "\n",
       "    .dataframe tbody tr th {\n",
       "        vertical-align: top;\n",
       "    }\n",
       "\n",
       "    .dataframe thead th {\n",
       "        text-align: right;\n",
       "    }\n",
       "</style>\n",
       "<table border=\"1\" class=\"dataframe\">\n",
       "  <thead>\n",
       "    <tr style=\"text-align: right;\">\n",
       "      <th></th>\n",
       "      <th>Soru48</th>\n",
       "      <th>Soru5.1</th>\n",
       "      <th>Soru3.1</th>\n",
       "      <th>Soru2</th>\n",
       "      <th>Soru18</th>\n",
       "      <th>Soru21</th>\n",
       "      <th>Soru25</th>\n",
       "      <th>Soru26</th>\n",
       "      <th>Soru27</th>\n",
       "      <th>Soru28</th>\n",
       "      <th>...</th>\n",
       "      <th>Soru8</th>\n",
       "      <th>Soru9</th>\n",
       "      <th>Soru10</th>\n",
       "      <th>Soru14</th>\n",
       "      <th>Soru15</th>\n",
       "      <th>Soru17</th>\n",
       "      <th>Soru18.1</th>\n",
       "      <th>Soru24</th>\n",
       "      <th>Soru44</th>\n",
       "      <th>Soru52</th>\n",
       "    </tr>\n",
       "  </thead>\n",
       "  <tbody>\n",
       "    <tr>\n",
       "      <th>0</th>\n",
       "      <td>4500.0</td>\n",
       "      <td>2.0</td>\n",
       "      <td>2.0</td>\n",
       "      <td>26.0</td>\n",
       "      <td>3000000.0</td>\n",
       "      <td>1.0</td>\n",
       "      <td>3.0</td>\n",
       "      <td>3.0</td>\n",
       "      <td>3.0</td>\n",
       "      <td>3.0</td>\n",
       "      <td>...</td>\n",
       "      <td>4.0</td>\n",
       "      <td>-16.0</td>\n",
       "      <td>1.0</td>\n",
       "      <td>3.0</td>\n",
       "      <td>5.0</td>\n",
       "      <td>1.0</td>\n",
       "      <td>1.0</td>\n",
       "      <td>2.0</td>\n",
       "      <td>2.0</td>\n",
       "      <td>3.0</td>\n",
       "    </tr>\n",
       "    <tr>\n",
       "      <th>1</th>\n",
       "      <td>5000.0</td>\n",
       "      <td>2.0</td>\n",
       "      <td>3.0</td>\n",
       "      <td>66.0</td>\n",
       "      <td>1000000.0</td>\n",
       "      <td>2.0</td>\n",
       "      <td>1.0</td>\n",
       "      <td>1.0</td>\n",
       "      <td>2.0</td>\n",
       "      <td>2.0</td>\n",
       "      <td>...</td>\n",
       "      <td>9.0</td>\n",
       "      <td>-0.0</td>\n",
       "      <td>2.0</td>\n",
       "      <td>3.0</td>\n",
       "      <td>4.0</td>\n",
       "      <td>4.0</td>\n",
       "      <td>1.0</td>\n",
       "      <td>2.0</td>\n",
       "      <td>1.0</td>\n",
       "      <td>1.0</td>\n",
       "    </tr>\n",
       "    <tr>\n",
       "      <th>2</th>\n",
       "      <td>2500.0</td>\n",
       "      <td>2.0</td>\n",
       "      <td>3.0</td>\n",
       "      <td>52.0</td>\n",
       "      <td>250000.0</td>\n",
       "      <td>2.0</td>\n",
       "      <td>3.0</td>\n",
       "      <td>1.0</td>\n",
       "      <td>6.0</td>\n",
       "      <td>3.0</td>\n",
       "      <td>...</td>\n",
       "      <td>4.0</td>\n",
       "      <td>2.0</td>\n",
       "      <td>2.0</td>\n",
       "      <td>2.0</td>\n",
       "      <td>2.0</td>\n",
       "      <td>5.0</td>\n",
       "      <td>1.0</td>\n",
       "      <td>3.0</td>\n",
       "      <td>3.0</td>\n",
       "      <td>3.0</td>\n",
       "    </tr>\n",
       "    <tr>\n",
       "      <th>3</th>\n",
       "      <td>3200.0</td>\n",
       "      <td>1.0</td>\n",
       "      <td>2.0</td>\n",
       "      <td>38.0</td>\n",
       "      <td>200000.0</td>\n",
       "      <td>2.0</td>\n",
       "      <td>1.0</td>\n",
       "      <td>6.0</td>\n",
       "      <td>3.0</td>\n",
       "      <td>1.0</td>\n",
       "      <td>...</td>\n",
       "      <td>2.0</td>\n",
       "      <td>2.0</td>\n",
       "      <td>1.0</td>\n",
       "      <td>3.0</td>\n",
       "      <td>4.0</td>\n",
       "      <td>2.0</td>\n",
       "      <td>1.0</td>\n",
       "      <td>1.0</td>\n",
       "      <td>1.0</td>\n",
       "      <td>3.0</td>\n",
       "    </tr>\n",
       "    <tr>\n",
       "      <th>4</th>\n",
       "      <td>1000.0</td>\n",
       "      <td>3.0</td>\n",
       "      <td>1.0</td>\n",
       "      <td>42.0</td>\n",
       "      <td>150000.0</td>\n",
       "      <td>1.0</td>\n",
       "      <td>1.0</td>\n",
       "      <td>1.0</td>\n",
       "      <td>1.0</td>\n",
       "      <td>1.0</td>\n",
       "      <td>...</td>\n",
       "      <td>4.0</td>\n",
       "      <td>2.0</td>\n",
       "      <td>2.0</td>\n",
       "      <td>2.0</td>\n",
       "      <td>4.0</td>\n",
       "      <td>3.0</td>\n",
       "      <td>1.0</td>\n",
       "      <td>1.0</td>\n",
       "      <td>2.0</td>\n",
       "      <td>2.0</td>\n",
       "    </tr>\n",
       "  </tbody>\n",
       "</table>\n",
       "<p>5 rows × 39 columns</p>\n",
       "</div>"
      ],
      "text/plain": [
       "   Soru48  Soru5.1  Soru3.1  Soru2     Soru18  Soru21  Soru25  Soru26  Soru27  \\\n",
       "0  4500.0      2.0      2.0   26.0  3000000.0     1.0     3.0     3.0     3.0   \n",
       "1  5000.0      2.0      3.0   66.0  1000000.0     2.0     1.0     1.0     2.0   \n",
       "2  2500.0      2.0      3.0   52.0   250000.0     2.0     3.0     1.0     6.0   \n",
       "3  3200.0      1.0      2.0   38.0   200000.0     2.0     1.0     6.0     3.0   \n",
       "4  1000.0      3.0      1.0   42.0   150000.0     1.0     1.0     1.0     1.0   \n",
       "\n",
       "   Soru28  ...  Soru8  Soru9  Soru10  Soru14  Soru15  Soru17  Soru18.1  \\\n",
       "0     3.0  ...    4.0  -16.0     1.0     3.0     5.0     1.0       1.0   \n",
       "1     2.0  ...    9.0   -0.0     2.0     3.0     4.0     4.0       1.0   \n",
       "2     3.0  ...    4.0    2.0     2.0     2.0     2.0     5.0       1.0   \n",
       "3     1.0  ...    2.0    2.0     1.0     3.0     4.0     2.0       1.0   \n",
       "4     1.0  ...    4.0    2.0     2.0     2.0     4.0     3.0       1.0   \n",
       "\n",
       "   Soru24  Soru44  Soru52  \n",
       "0     2.0     2.0     3.0  \n",
       "1     2.0     1.0     1.0  \n",
       "2     3.0     3.0     3.0  \n",
       "3     1.0     1.0     3.0  \n",
       "4     1.0     2.0     2.0  \n",
       "\n",
       "[5 rows x 39 columns]"
      ]
     },
     "execution_count": 33,
     "metadata": {},
     "output_type": "execute_result"
    }
   ],
   "source": [
    "rf_arr_fill = imp.transform(rf_arr_fill)\n",
    "rf_arr_fill = pd.DataFrame(np.round_(rf_arr_fill), columns = df_missing_columns)\n",
    "rf_arr_fill.head()"
   ]
  },
  {
   "cell_type": "markdown",
   "id": "8e5d8451",
   "metadata": {},
   "source": [
    "## Veri Setini Bütünleştirme"
   ]
  },
  {
   "cell_type": "code",
   "execution_count": 34,
   "id": "e25df7bc",
   "metadata": {},
   "outputs": [],
   "source": [
    "df.drop(labels = df_missing_columns, axis = 1, inplace = True)"
   ]
  },
  {
   "cell_type": "code",
   "execution_count": 35,
   "id": "fd581a8d",
   "metadata": {},
   "outputs": [],
   "source": [
    "drop_features = ['ID', 'MK', 'İlKodu', 'Bölge', 'İlAdı', 'İlçeAdı', 'MahalleAdı', 'kisibasigelir', 'gelirdilimleri']\n",
    "df.drop(labels = drop_features, axis = 1, inplace = True)"
   ]
  },
  {
   "cell_type": "markdown",
   "id": "1330c929",
   "metadata": {},
   "source": [
    "['ID',\n",
    " 'MK',\n",
    " 'İlKodu',\n",
    " 'Bölge',\n",
    " 'İlAdı',\n",
    " 'İlçeAdı',\n",
    " 'MahalleAdı',\n",
    " 'kisibasigelir',\n",
    " 'gelirdilimleri'] \n",
    " \n",
    " #### Bu değişkenleri çıkarma amacımız,  hepsinin aşağıda bulunan görsel tarafından temsil edilmiş olmasından dolayı\n"
   ]
  },
  {
   "cell_type": "code",
   "execution_count": 36,
   "id": "538e8668",
   "metadata": {},
   "outputs": [],
   "source": [
    "df_w_knn = pd.merge(knn_arr_fill, df, left_index = True, right_index = True)\n",
    "df_w_rf = pd.merge(rf_arr_fill, df, left_index = True, right_index = True)"
   ]
  },
  {
   "cell_type": "code",
   "execution_count": 37,
   "id": "65cf415b",
   "metadata": {},
   "outputs": [
    {
     "data": {
      "text/plain": [
       "Int64Index([0, 1, 2369, 2387, 2556, 2634], dtype='int64')"
      ]
     },
     "execution_count": 37,
     "metadata": {},
     "output_type": "execute_result"
    }
   ],
   "source": [
    "idx_remove = df_w_rf[df_w_rf.loc[:,\"Soru9\"].isin([8, -16, -0])].index\n",
    "idx_remove"
   ]
  },
  {
   "cell_type": "code",
   "execution_count": 38,
   "id": "b367cb12",
   "metadata": {},
   "outputs": [],
   "source": [
    "df_w_rf.drop(index = idx_remove, axis = 0, inplace = True)"
   ]
  },
  {
   "cell_type": "code",
   "execution_count": 39,
   "id": "d4fcc10a",
   "metadata": {},
   "outputs": [],
   "source": [
    "df_w_knn[\"kisibasigelir\"] = df_w_knn[\"Soru48\"] / df_w_knn[\"Soru5\"]\n",
    "df_w_rf[\"kisibasigelir\"] = df_w_rf[\"Soru48\"] / df_w_rf[\"Soru5\"]"
   ]
  },
  {
   "cell_type": "markdown",
   "id": "c4372f5a",
   "metadata": {},
   "source": [
    "###### Çıkarılan indexde bulunan gözlemler anlamsız olduğu için bu gözlemler silinmiştir."
   ]
  },
  {
   "cell_type": "markdown",
   "id": "864946fd",
   "metadata": {},
   "source": [
    "# Feature Selection\n",
    "\n",
    "## Categorical Feauture Selection \n",
    "\n",
    "### RandomForest "
   ]
  },
  {
   "cell_type": "code",
   "execution_count": 40,
   "id": "3db34aa1",
   "metadata": {},
   "outputs": [
    {
     "data": {
      "text/plain": [
       "((1862, 79), (798, 79))"
      ]
     },
     "execution_count": 40,
     "metadata": {},
     "output_type": "execute_result"
    }
   ],
   "source": [
    "X_train_rf, X_test_rf, y_train_rf, y_test_rf = train_test_split(\n",
    "        df_w_rf.drop([\"Soru14\",\"Soru48\", \"Soru18\", \"Soru2\", \"kisibasigelir\"], axis=1),\n",
    "        df_w_rf[\"Soru14\"],\n",
    "        test_size=0.3,\n",
    "        random_state=0)\n",
    "X_train_rf.shape, X_test_rf.shape"
   ]
  },
  {
   "cell_type": "code",
   "execution_count": 41,
   "id": "90864181",
   "metadata": {},
   "outputs": [
    {
     "data": {
      "text/plain": [
       "(1862,)"
      ]
     },
     "execution_count": 41,
     "metadata": {},
     "output_type": "execute_result"
    }
   ],
   "source": [
    "y_train_rf.shape"
   ]
  },
  {
   "cell_type": "code",
   "execution_count": 42,
   "id": "9b3866ce",
   "metadata": {},
   "outputs": [
    {
     "data": {
      "text/html": [
       "<div>\n",
       "<style scoped>\n",
       "    .dataframe tbody tr th:only-of-type {\n",
       "        vertical-align: middle;\n",
       "    }\n",
       "\n",
       "    .dataframe tbody tr th {\n",
       "        vertical-align: top;\n",
       "    }\n",
       "\n",
       "    .dataframe thead th {\n",
       "        text-align: right;\n",
       "    }\n",
       "</style>\n",
       "<table border=\"1\" class=\"dataframe\">\n",
       "  <thead>\n",
       "    <tr style=\"text-align: right;\">\n",
       "      <th></th>\n",
       "      <th>F_Scores</th>\n",
       "      <th>P_Value</th>\n",
       "    </tr>\n",
       "  </thead>\n",
       "  <tbody>\n",
       "    <tr>\n",
       "      <th>Soru28</th>\n",
       "      <td>280.576346</td>\n",
       "      <td>1.673888e-59</td>\n",
       "    </tr>\n",
       "    <tr>\n",
       "      <th>Soru25</th>\n",
       "      <td>237.371058</td>\n",
       "      <td>3.416421e-50</td>\n",
       "    </tr>\n",
       "    <tr>\n",
       "      <th>Soru27</th>\n",
       "      <td>194.771949</td>\n",
       "      <td>4.997373e-41</td>\n",
       "    </tr>\n",
       "    <tr>\n",
       "      <th>Soru26</th>\n",
       "      <td>168.519111</td>\n",
       "      <td>2.174118e-35</td>\n",
       "    </tr>\n",
       "    <tr>\n",
       "      <th>Soru48.1</th>\n",
       "      <td>84.637941</td>\n",
       "      <td>1.810434e-17</td>\n",
       "    </tr>\n",
       "    <tr>\n",
       "      <th>Soru30</th>\n",
       "      <td>76.355935</td>\n",
       "      <td>1.029346e-15</td>\n",
       "    </tr>\n",
       "    <tr>\n",
       "      <th>Soru15</th>\n",
       "      <td>70.659755</td>\n",
       "      <td>1.646998e-14</td>\n",
       "    </tr>\n",
       "    <tr>\n",
       "      <th>Soru29</th>\n",
       "      <td>54.228188</td>\n",
       "      <td>4.714359e-11</td>\n",
       "    </tr>\n",
       "  </tbody>\n",
       "</table>\n",
       "</div>"
      ],
      "text/plain": [
       "            F_Scores       P_Value\n",
       "Soru28    280.576346  1.673888e-59\n",
       "Soru25    237.371058  3.416421e-50\n",
       "Soru27    194.771949  4.997373e-41\n",
       "Soru26    168.519111  2.174118e-35\n",
       "Soru48.1   84.637941  1.810434e-17\n",
       "Soru30     76.355935  1.029346e-15\n",
       "Soru15     70.659755  1.646998e-14\n",
       "Soru29     54.228188  4.714359e-11"
      ]
     },
     "execution_count": 42,
     "metadata": {},
     "output_type": "execute_result"
    }
   ],
   "source": [
    "# calculate the chi2 p_value between each of the variables\n",
    "# and the target\n",
    "\n",
    "# chi2 returns 2 arrays, one contains the F-Scores which are then\n",
    "# evaluated against the chi2 distribution to obtain the pvalue.\n",
    "# The pvalues are in the second array\n",
    "\n",
    "f_score = chi2(X_train_rf, y_train_rf)\n",
    "\n",
    "# 1) let's capture the p_values and f_scores \n",
    "# 2) add the variable names in the index\n",
    "# 3) order the variables based on their p-score\n",
    "df_scores = pd.DataFrame(f_score).T\n",
    "df_scores.columns =  [\"F_Scores\",\"P_Value\"]\n",
    "df_scores.index = X_train_rf.columns\n",
    "df_scores.sort_values(by = \"P_Value\", ascending = True).head(8)"
   ]
  },
  {
   "cell_type": "code",
   "execution_count": 43,
   "id": "af7aa4d4",
   "metadata": {},
   "outputs": [
    {
     "data": {
      "text/plain": [
       "Index(['Soru25', 'Soru26', 'Soru27', 'Soru28', 'Soru29', 'Soru30', 'Soru15',\n",
       "       'Soru48.1'],\n",
       "      dtype='object')"
      ]
     },
     "execution_count": 43,
     "metadata": {},
     "output_type": "execute_result"
    }
   ],
   "source": [
    "sel_ = SelectKBest(chi2, k=8).fit(X_train_rf, y_train_rf)\n",
    "\n",
    "# display features\n",
    "X_train_rf.columns[sel_.get_support()]"
   ]
  },
  {
   "cell_type": "code",
   "execution_count": 44,
   "id": "bb902e8d",
   "metadata": {},
   "outputs": [
    {
     "data": {
      "image/png": "[encoded data removed]",
      "text/plain": [
       "<Figure size 432x288 with 1 Axes>"
      ]
     },
     "metadata": {
      "needs_background": "light"
     },
     "output_type": "display_data"
    }
   ],
   "source": [
    "df_scores.sort_values(by = \"P_Value\", ascending = True).head(8).plot.barh(stacked = True);"
   ]
  },
  {
   "cell_type": "code",
   "execution_count": 45,
   "id": "c9579325",
   "metadata": {},
   "outputs": [],
   "source": [
    "# to remove the rest of the features:\n",
    "\n",
    "X_train_rf = sel_.transform(X_train_rf)\n",
    "X_test_rf = sel_.transform(X_test_rf)"
   ]
  },
  {
   "cell_type": "markdown",
   "id": "7bcd359e",
   "metadata": {},
   "source": [
    "### KNN"
   ]
  },
  {
   "cell_type": "code",
   "execution_count": 46,
   "id": "f432e0af",
   "metadata": {},
   "outputs": [
    {
     "data": {
      "text/plain": [
       "((1866, 79), (800, 79))"
      ]
     },
     "execution_count": 46,
     "metadata": {},
     "output_type": "execute_result"
    }
   ],
   "source": [
    "X_train_knn, X_test_knn, y_train_knn, y_test_knn = train_test_split(\n",
    "       df_w_knn.drop([\"Soru14\",\"Soru48\", \"Soru18\", \"Soru2\", \"kisibasigelir\"], axis=1),\n",
    "        df_w_knn[\"Soru14\"],\n",
    "        test_size=0.3,\n",
    "        random_state=0)\n",
    "X_train_knn.shape, X_test_knn.shape"
   ]
  },
  {
   "cell_type": "code",
   "execution_count": 47,
   "id": "59f4bd78",
   "metadata": {},
   "outputs": [
    {
     "data": {
      "text/html": [
       "<div>\n",
       "<style scoped>\n",
       "    .dataframe tbody tr th:only-of-type {\n",
       "        vertical-align: middle;\n",
       "    }\n",
       "\n",
       "    .dataframe tbody tr th {\n",
       "        vertical-align: top;\n",
       "    }\n",
       "\n",
       "    .dataframe thead th {\n",
       "        text-align: right;\n",
       "    }\n",
       "</style>\n",
       "<table border=\"1\" class=\"dataframe\">\n",
       "  <thead>\n",
       "    <tr style=\"text-align: right;\">\n",
       "      <th></th>\n",
       "      <th>F_Scores</th>\n",
       "      <th>P_Value</th>\n",
       "    </tr>\n",
       "  </thead>\n",
       "  <tbody>\n",
       "    <tr>\n",
       "      <th>Soru28</th>\n",
       "      <td>293.610656</td>\n",
       "      <td>2.587893e-62</td>\n",
       "    </tr>\n",
       "    <tr>\n",
       "      <th>Soru25</th>\n",
       "      <td>231.164818</td>\n",
       "      <td>7.410212e-49</td>\n",
       "    </tr>\n",
       "    <tr>\n",
       "      <th>Soru27</th>\n",
       "      <td>201.033125</td>\n",
       "      <td>2.252934e-42</td>\n",
       "    </tr>\n",
       "    <tr>\n",
       "      <th>Soru26</th>\n",
       "      <td>182.565278</td>\n",
       "      <td>2.096880e-38</td>\n",
       "    </tr>\n",
       "    <tr>\n",
       "      <th>Soru30</th>\n",
       "      <td>77.407679</td>\n",
       "      <td>6.165504e-16</td>\n",
       "    </tr>\n",
       "    <tr>\n",
       "      <th>Soru48.1</th>\n",
       "      <td>69.556610</td>\n",
       "      <td>2.815749e-14</td>\n",
       "    </tr>\n",
       "    <tr>\n",
       "      <th>Soru29</th>\n",
       "      <td>68.339956</td>\n",
       "      <td>5.085566e-14</td>\n",
       "    </tr>\n",
       "    <tr>\n",
       "      <th>Soru15</th>\n",
       "      <td>61.664107</td>\n",
       "      <td>1.296205e-12</td>\n",
       "    </tr>\n",
       "  </tbody>\n",
       "</table>\n",
       "</div>"
      ],
      "text/plain": [
       "            F_Scores       P_Value\n",
       "Soru28    293.610656  2.587893e-62\n",
       "Soru25    231.164818  7.410212e-49\n",
       "Soru27    201.033125  2.252934e-42\n",
       "Soru26    182.565278  2.096880e-38\n",
       "Soru30     77.407679  6.165504e-16\n",
       "Soru48.1   69.556610  2.815749e-14\n",
       "Soru29     68.339956  5.085566e-14\n",
       "Soru15     61.664107  1.296205e-12"
      ]
     },
     "execution_count": 47,
     "metadata": {},
     "output_type": "execute_result"
    }
   ],
   "source": [
    "# calculate the chi2 p_value between each of the variables\n",
    "# and the target\n",
    "\n",
    "# chi2 returns 2 arrays, one contains the F-Scores which are then\n",
    "# evaluated against the chi2 distribution to obtain the pvalue.\n",
    "# The pvalues are in the second array\n",
    "\n",
    "f_score = chi2(X_train_knn, y_train_knn)\n",
    "\n",
    "# 1) let's capture the p_values and f_scores \n",
    "# 2) add the variable names in the index\n",
    "# 3) order the variables based on their p-score\n",
    "df_scores = pd.DataFrame(f_score).T\n",
    "df_scores.columns =  [\"F_Scores\",\"P_Value\"]\n",
    "df_scores.index = X_train_knn.columns\n",
    "df_scores.sort_values(by = \"P_Value\", ascending = True).head(8)"
   ]
  },
  {
   "cell_type": "code",
   "execution_count": 48,
   "id": "bd11dc0d",
   "metadata": {},
   "outputs": [
    {
     "data": {
      "text/plain": [
       "Index(['Soru25', 'Soru26', 'Soru27', 'Soru28', 'Soru29', 'Soru30', 'Soru15',\n",
       "       'Soru48.1'],\n",
       "      dtype='object')"
      ]
     },
     "execution_count": 48,
     "metadata": {},
     "output_type": "execute_result"
    }
   ],
   "source": [
    "sel_ = SelectKBest(chi2, k=8).fit(X_train_knn, y_train_knn)\n",
    "\n",
    "# display features\n",
    "X_train_knn.columns[sel_.get_support()]"
   ]
  },
  {
   "cell_type": "code",
   "execution_count": 49,
   "id": "6e433a3b",
   "metadata": {},
   "outputs": [
    {
     "data": {
      "image/png": "[encoded data removed]",
      "text/plain": [
       "<Figure size 432x288 with 1 Axes>"
      ]
     },
     "metadata": {
      "needs_background": "light"
     },
     "output_type": "display_data"
    }
   ],
   "source": [
    "df_scores.sort_values(by = \"P_Value\", ascending = True).head(8).plot.barh(stacked = True);"
   ]
  },
  {
   "cell_type": "code",
   "execution_count": 50,
   "id": "df3fcfdb",
   "metadata": {},
   "outputs": [],
   "source": [
    "# to remove the rest of the features:\n",
    "\n",
    "X_train_knn = sel_.transform(X_train_knn)\n",
    "X_test_knn = sel_.transform(X_test_knn)"
   ]
  },
  {
   "cell_type": "markdown",
   "id": "8138de75",
   "metadata": {},
   "source": [
    "# Select Numerical Features \n",
    "\n",
    "## RandomForest"
   ]
  },
  {
   "cell_type": "code",
   "execution_count": 51,
   "id": "4946fcb3",
   "metadata": {},
   "outputs": [],
   "source": [
    "numerical_features = [\"Soru48\", \"Soru18\", \"Soru2\", \"kisibasigelir\"]"
   ]
  },
  {
   "cell_type": "code",
   "execution_count": 52,
   "id": "0a3dd149",
   "metadata": {},
   "outputs": [
    {
     "data": {
      "text/plain": [
       "((1862, 4), (798, 4))"
      ]
     },
     "execution_count": 52,
     "metadata": {},
     "output_type": "execute_result"
    }
   ],
   "source": [
    "X_train_rf, X_test_rf, y_train_rf, y_test_rf = train_test_split(\n",
    "    df_w_rf.loc[:,numerical_features], # drop the target\n",
    "    df_w_rf['Soru14'], # just the target\n",
    "    test_size=0.3,\n",
    "    random_state=0)\n",
    "\n",
    "X_train_rf.shape, X_test_rf.shape"
   ]
  },
  {
   "cell_type": "code",
   "execution_count": 53,
   "id": "08fcb673",
   "metadata": {},
   "outputs": [
    {
     "data": {
      "text/plain": [
       "(array([47.90135216,  2.13436927,  1.5739996 , 35.93648867]),\n",
       " array([2.22080739e-38, 7.42082768e-02, 1.78598273e-01, 5.83145526e-29]))"
      ]
     },
     "execution_count": 53,
     "metadata": {},
     "output_type": "execute_result"
    }
   ],
   "source": [
    "# calculate the univariate statistical measure between\n",
    "# each of the variables and the target\n",
    "\n",
    "# similarly to chi2, the output is one array with f-scores\n",
    "# and one array with the pvalues\n",
    "\n",
    "univariate = f_classif(X_train_rf, y_train_rf)\n",
    "\n",
    "univariate"
   ]
  },
  {
   "cell_type": "code",
   "execution_count": 54,
   "id": "eb094422",
   "metadata": {},
   "outputs": [
    {
     "data": {
      "image/png": "[encoded data removed]",
      "text/plain": [
       "<Figure size 1440x432 with 1 Axes>"
      ]
     },
     "metadata": {
      "needs_background": "light"
     },
     "output_type": "display_data"
    }
   ],
   "source": [
    "# 1) let's capture the pvalues in a pandas series\n",
    "# 2) add the variable names in the index\n",
    "# 3) sort the features based on their anova pvalues\n",
    "# 4) and make a var plot\n",
    "\n",
    "univariate = pd.Series(univariate[1])\n",
    "univariate.index = X_train_rf.columns\n",
    "univariate.sort_values(ascending=False).plot.bar(figsize=(20, 6));"
   ]
  },
  {
   "cell_type": "code",
   "execution_count": 55,
   "id": "ac454151",
   "metadata": {},
   "outputs": [
    {
     "data": {
      "text/plain": [
       "Index(['Soru48', 'Soru18', 'kisibasigelir'], dtype='object')"
      ]
     },
     "execution_count": 55,
     "metadata": {},
     "output_type": "execute_result"
    }
   ],
   "source": [
    "# select the top 3 features\n",
    "sel_ = SelectKBest(f_classif, k=3).fit(X_train_rf, y_train_rf)\n",
    "\n",
    "# display selected feature names\n",
    "X_train_rf.columns[sel_.get_support()]"
   ]
  },
  {
   "cell_type": "code",
   "execution_count": 56,
   "id": "22e29b04",
   "metadata": {},
   "outputs": [
    {
     "data": {
      "text/plain": [
       "(1862, 3)"
      ]
     },
     "execution_count": 56,
     "metadata": {},
     "output_type": "execute_result"
    }
   ],
   "source": [
    "# remove unwanted features from the dataset\n",
    "\n",
    "X_train_rf = sel_.transform(X_train_rf)\n",
    "\n",
    "X_train_rf.shape"
   ]
  },
  {
   "cell_type": "markdown",
   "id": "4b5e1722",
   "metadata": {},
   "source": [
    "## KNN"
   ]
  },
  {
   "cell_type": "code",
   "execution_count": 57,
   "id": "d166613c",
   "metadata": {},
   "outputs": [
    {
     "data": {
      "text/plain": [
       "((1866, 4), (800, 4))"
      ]
     },
     "execution_count": 57,
     "metadata": {},
     "output_type": "execute_result"
    }
   ],
   "source": [
    "X_train_knn, X_test_knn, y_train_knn, y_test_knn = train_test_split(\n",
    "    df_w_knn.loc[:,numerical_features], # drop the target\n",
    "    df_w_knn['Soru14'], # just the target\n",
    "    test_size=0.3,\n",
    "    random_state=0)\n",
    "\n",
    "X_train_knn.shape, X_test_knn.shape"
   ]
  },
  {
   "cell_type": "code",
   "execution_count": 58,
   "id": "4ea3495b",
   "metadata": {},
   "outputs": [
    {
     "data": {
      "text/plain": [
       "(array([36.66727692,  0.27921667,  1.76292146, 23.75221215]),\n",
       " array([1.52290350e-29, 8.91544673e-01, 1.33678048e-01, 3.49197003e-19]))"
      ]
     },
     "execution_count": 58,
     "metadata": {},
     "output_type": "execute_result"
    }
   ],
   "source": [
    "# calculate the univariate statistical measure between\n",
    "# each of the variables and the target\n",
    "\n",
    "# similarly to chi2, the output is one array with f-scores\n",
    "# and one array with the pvalues\n",
    "\n",
    "univariate = f_classif(X_train_knn, y_train_knn)\n",
    "\n",
    "univariate"
   ]
  },
  {
   "cell_type": "code",
   "execution_count": 59,
   "id": "c4a72183",
   "metadata": {},
   "outputs": [
    {
     "data": {
      "image/png": "[encoded data removed]",
      "text/plain": [
       "<Figure size 1440x432 with 1 Axes>"
      ]
     },
     "metadata": {
      "needs_background": "light"
     },
     "output_type": "display_data"
    }
   ],
   "source": [
    "# 1) let's capture the pvalues in a pandas series\n",
    "# 2) add the variable names in the index\n",
    "# 3) sort the features based on their anova pvalues\n",
    "# 4) and make a var plot\n",
    "\n",
    "univariate = pd.Series(univariate[1])\n",
    "univariate.index = X_train_knn.columns\n",
    "univariate.sort_values(ascending=False).plot.bar(figsize=(20, 6));"
   ]
  },
  {
   "cell_type": "code",
   "execution_count": 60,
   "id": "77ddb187",
   "metadata": {},
   "outputs": [
    {
     "data": {
      "text/plain": [
       "Index(['Soru48', 'Soru2', 'kisibasigelir'], dtype='object')"
      ]
     },
     "execution_count": 60,
     "metadata": {},
     "output_type": "execute_result"
    }
   ],
   "source": [
    "# select the top 3 features\n",
    "sel_ = SelectKBest(f_classif, k=3).fit(X_train_knn, y_train_knn)\n",
    "\n",
    "# display selected feature names\n",
    "X_train_knn.columns[sel_.get_support()]"
   ]
  },
  {
   "cell_type": "code",
   "execution_count": 61,
   "id": "7e64db73",
   "metadata": {},
   "outputs": [
    {
     "data": {
      "text/plain": [
       "(1866, 3)"
      ]
     },
     "execution_count": 61,
     "metadata": {},
     "output_type": "execute_result"
    }
   ],
   "source": [
    "# remove unwanted features from the dataset\n",
    "\n",
    "X_train_knn = sel_.transform(X_train_knn)\n",
    "\n",
    "X_train_knn.shape"
   ]
  },
  {
   "cell_type": "markdown",
   "id": "6d54eaaf",
   "metadata": {},
   "source": [
    "# Modelleme Öncesi  Değişken Seçim İşlemleri\n",
    "\n",
    "## Random Forest ve KNN  Imputer Veri Seti "
   ]
  },
  {
   "cell_type": "code",
   "execution_count": 62,
   "id": "af5de459",
   "metadata": {},
   "outputs": [],
   "source": [
    "sel_feat = ['Soru25', 'Soru26', 'Soru27', 'Soru28', 'Soru29', 'Soru30', 'Soru15',\n",
    "       'Soru48.1','Soru48', 'Soru18', 'kisibasigelir',\"Soru14\"]"
   ]
  },
  {
   "cell_type": "code",
   "execution_count": 63,
   "id": "6dabd261",
   "metadata": {},
   "outputs": [],
   "source": [
    "rf_df = df_w_rf[sel_feat]"
   ]
  },
  {
   "cell_type": "code",
   "execution_count": 64,
   "id": "52697c93",
   "metadata": {},
   "outputs": [],
   "source": [
    "knn_df = df_w_knn[sel_feat]"
   ]
  },
  {
   "cell_type": "code",
   "execution_count": 65,
   "id": "51e2f933",
   "metadata": {},
   "outputs": [
    {
     "data": {
      "text/plain": [
       "'C:\\\\Users\\\\user\\\\Desktop\\\\2022BaharSeminer'"
      ]
     },
     "execution_count": 65,
     "metadata": {},
     "output_type": "execute_result"
    }
   ],
   "source": [
    "%pwd"
   ]
  },
  {
   "cell_type": "code",
   "execution_count": 66,
   "id": "4d5711f3",
   "metadata": {},
   "outputs": [],
   "source": [
    "rf_df.to_csv('rf_df.csv')\n",
    "knn_df.to_csv('knn_df.csv')"
   ]
  },
  {
   "cell_type": "markdown",
   "id": "6a0e316e",
   "metadata": {},
   "source": [
    "# Karar Ağaçları ile Tahmin(rf_df)"
   ]
  },
  {
   "cell_type": "code",
   "execution_count": 67,
   "id": "6734f348",
   "metadata": {},
   "outputs": [],
   "source": [
    "# For Multi Outputs\n",
    "from keras.utils import np_utils\n",
    "from sklearn.preprocessing import LabelEncoder\n",
    "\n",
    "y = rf_df[\"Soru14\"]\n",
    "# label encoder y\n",
    "encoder = LabelEncoder()\n",
    "encoder.fit(y)\n",
    "y = encoder.transform(y)\n",
    "y = np_utils.to_categorical(y)"
   ]
  },
  {
   "cell_type": "code",
   "execution_count": 68,
   "id": "aca5a3d1",
   "metadata": {},
   "outputs": [],
   "source": [
    "rf_df.drop(labels = [\"Soru14\"], axis = 1, inplace = True)"
   ]
  },
  {
   "cell_type": "code",
   "execution_count": 69,
   "id": "dcae3f6c",
   "metadata": {},
   "outputs": [
    {
     "data": {
      "text/plain": [
       "((1862, 11), (798, 11))"
      ]
     },
     "execution_count": 69,
     "metadata": {},
     "output_type": "execute_result"
    }
   ],
   "source": [
    "X_train, X_test, y_train, y_test = train_test_split(\n",
    "    rf_df,\n",
    "    y,\n",
    "    test_size=0.3,\n",
    "    random_state=0)\n",
    "\n",
    "X_train.shape, X_test.shape"
   ]
  },
  {
   "cell_type": "code",
   "execution_count": 70,
   "id": "2e2ec191",
   "metadata": {},
   "outputs": [
    {
     "data": {
      "text/plain": [
       "(1862, 5)"
      ]
     },
     "execution_count": 70,
     "metadata": {},
     "output_type": "execute_result"
    }
   ],
   "source": [
    "y_train.shape"
   ]
  },
  {
   "cell_type": "code",
   "execution_count": 71,
   "id": "ec034d23",
   "metadata": {},
   "outputs": [],
   "source": [
    "# Import Decision Tree Classifier\n",
    "from sklearn.tree import DecisionTreeClassifier \n",
    "\n",
    "# Create Decision Tree classifer object\n",
    "clf = DecisionTreeClassifier()\n",
    "\n",
    "# Train Decision Tree Classifer\n",
    "clf = clf.fit(X_train,y_train)"
   ]
  },
  {
   "cell_type": "code",
   "execution_count": 72,
   "id": "6ca49f31",
   "metadata": {},
   "outputs": [],
   "source": [
    "y_pred = clf.predict(X_test)"
   ]
  },
  {
   "cell_type": "code",
   "execution_count": 73,
   "id": "4eaa10ff",
   "metadata": {},
   "outputs": [
    {
     "name": "stdout",
     "output_type": "stream",
     "text": [
      "Accuracy: 0.39724310776942356\n",
      "f1_weighted: 0.4067508621853519\n"
     ]
    }
   ],
   "source": [
    "import sklearn.metrics as metrics\n",
    "\n",
    "# Accuracy\n",
    "\n",
    "print(\"Accuracy:\",metrics.accuracy_score(y_test,y_pred))\n",
    "\n",
    "# f1 score\n",
    "\n",
    "print(\"f1_weighted:\",metrics.f1_score(y_test, y_pred,average='weighted'))"
   ]
  },
  {
   "cell_type": "code",
   "execution_count": 74,
   "id": "f29efd42",
   "metadata": {},
   "outputs": [
    {
     "name": "stdout",
     "output_type": "stream",
     "text": [
      "[[ 50  36  28   1   4]\n",
      " [ 43  49  87  13   3]\n",
      " [ 55  87 204  39  10]\n",
      " [  9   8  35  15   5]\n",
      " [  2   2   7   5   1]]\n"
     ]
    }
   ],
   "source": [
    "from sklearn.metrics import confusion_matrix, classification_report \n",
    "model_conf = confusion_matrix(np.argmax(y_test, axis=1), np.argmax(y_pred, axis=1))\n",
    "print(model_conf)"
   ]
  },
  {
   "cell_type": "code",
   "execution_count": 75,
   "id": "053c35c7",
   "metadata": {},
   "outputs": [],
   "source": [
    "#%% ROC-AUC Curve\n",
    "\n",
    "from scipy import interp\n",
    "import matplotlib.pyplot as plt\n",
    "from sklearn.metrics import roc_curve, auc\n",
    "# Learn to predict each class against the other\n",
    "\n",
    "\n",
    "n_classes = 5 # number of class\n",
    "\n",
    "\n",
    "\n",
    "\n",
    "# Compute ROC curve and ROC area for each class\n",
    "fpr = dict()\n",
    "tpr = dict()\n",
    "roc_auc = dict()\n",
    "for i in range(n_classes):\n",
    "    fpr[i], tpr[i], _ = roc_curve(y_test[:, i], y_pred[:, i], )\n",
    "    roc_auc[i] = auc(fpr[i], tpr[i])\n",
    "\n",
    "# Compute micro-average ROC curve and ROC area\n",
    "fpr[\"micro\"], tpr[\"micro\"], _ = roc_curve(y_test.ravel(), y_pred.ravel())\n",
    "roc_auc[\"micro\"] = auc(fpr[\"micro\"], tpr[\"micro\"])"
   ]
  },
  {
   "cell_type": "code",
   "execution_count": 76,
   "id": "24b4c415",
   "metadata": {},
   "outputs": [
    {
     "data": {
      "text/plain": [
       "{0: 0.6376158710907043,\n",
       " 1: 0.5153591019262661,\n",
       " 2: 0.5634387662154098,\n",
       " 3: 0.5642217630853994,\n",
       " 4: 0.5153272576636289,\n",
       " 'micro': 0.6270363408521303}"
      ]
     },
     "execution_count": 76,
     "metadata": {},
     "output_type": "execute_result"
    }
   ],
   "source": [
    "roc_auc"
   ]
  },
  {
   "cell_type": "code",
   "execution_count": 77,
   "id": "80addc80",
   "metadata": {},
   "outputs": [
    {
     "data": {
      "image/png": "[encoded data removed]",
      "text/plain": [
       "<Figure size 432x288 with 1 Axes>"
      ]
     },
     "metadata": {
      "needs_background": "light"
     },
     "output_type": "display_data"
    }
   ],
   "source": [
    "# The process of drawing a roc-auc curve belonging to a specific class\n",
    "\n",
    "plt.figure()\n",
    "lw = 2 # line_width\n",
    "\n",
    "plt.plot(fpr[2], tpr[2], color='darkorange',\n",
    "         lw=lw)\n",
    "         \n",
    "# Drawing Curve according to 3. class \n",
    "plt.plot([0, 1], [0, 1], color='navy', lw=lw, \n",
    "         label ='ROC curve (area = %0.2f)' % roc_auc[2],\n",
    "         linestyle='--')\n",
    "\n",
    "plt.xlim([0.0, 1.0])\n",
    "plt.ylim([0.0, 1.05])\n",
    "plt.xlabel('False Positive Rate')\n",
    "plt.ylabel('True Positive Rate')\n",
    "plt.title('ROC Eğrisi')\n",
    "plt.legend(loc=\"lower right\")\n",
    "plt.show();"
   ]
  },
  {
   "cell_type": "code",
   "execution_count": 78,
   "id": "0de10d5d",
   "metadata": {},
   "outputs": [
    {
     "data": {
      "image/png": "[encoded data removed]",
      "text/plain": [
       "<Figure size 432x288 with 1 Axes>"
      ]
     },
     "metadata": {
      "needs_background": "light"
     },
     "output_type": "display_data"
    }
   ],
   "source": [
    "# Process of plotting roc-auc curve belonging to all classes.\n",
    "\n",
    "from itertools import cycle\n",
    "roc_auc_scores = []\n",
    "# First aggregate all false positive rates\n",
    "all_fpr = np.unique(np.concatenate([fpr[i] for i in range(n_classes)]))\n",
    "\n",
    "# Then interpolate all ROC curves at this points\n",
    "mean_tpr = np.zeros_like(all_fpr)\n",
    "for i in range(n_classes):\n",
    "    mean_tpr += interp(all_fpr, fpr[i], tpr[i])\n",
    "\n",
    "# Finally average it and compute AUC\n",
    "mean_tpr /= n_classes\n",
    "\n",
    "fpr[\"macro\"] = all_fpr\n",
    "tpr[\"macro\"] = mean_tpr\n",
    "roc_auc[\"macro\"] = auc(fpr[\"macro\"], tpr[\"macro\"])\n",
    "\n",
    "# Plot all ROC curves\n",
    "plt.figure()\n",
    "plt.plot(fpr[\"micro\"], tpr[\"micro\"],\n",
    "label='micro-average ROC curve (area = {0:0.2f})'\n",
    "''.format(roc_auc[\"micro\"]),\n",
    "color='deeppink', linestyle=':', linewidth=4)\n",
    "\n",
    "plt.plot(fpr[\"macro\"], tpr[\"macro\"],\n",
    "label='macro-average ROC curve (area = {0:0.2f})'\n",
    "''.format(roc_auc[\"macro\"]),\n",
    "color='navy', linestyle=':', linewidth=4)\n",
    "\n",
    "colors = cycle(['aqua', 'darkorange', 'cornflowerblue'])\n",
    "for i, color in zip(range(n_classes), colors):\n",
    "    plt.plot(fpr[i], tpr[i], color=color, lw=2,\n",
    "            label='ROC curve of class {0} (area = {1:0.2f})'\n",
    "             ''.format(i, roc_auc[i]))\n",
    "roc_auc_scores.append(roc_auc[i])\n",
    "\n",
    "plt.plot([0, 1], [0, 1], 'k--', lw=lw)\n",
    "plt.xlim([0.0, 1.0])\n",
    "plt.ylim([0.0, 1.05])\n",
    "plt.xlabel('False Positive Rate')\n",
    "plt.ylabel('True Positive Rate')\n",
    "plt.title('Extending the ROC Curve to Multi-Class for Decision Tree')\n",
    "plt.legend(loc=\"best\", bbox_to_anchor=(0.9, .2, .84, .8))\n",
    "plt.show()"
   ]
  },
  {
   "cell_type": "markdown",
   "id": "58eaa847",
   "metadata": {},
   "source": [
    "# Karar Ağaçları ile Tahmin(knn_df)"
   ]
  },
  {
   "cell_type": "code",
   "execution_count": 79,
   "id": "dd01da0f",
   "metadata": {},
   "outputs": [],
   "source": [
    "# For Multi Outputs\n",
    "from keras.utils import np_utils\n",
    "from sklearn.preprocessing import LabelEncoder\n",
    "\n",
    "y = knn_df[\"Soru14\"]\n",
    "# label encoder y\n",
    "encoder = LabelEncoder()\n",
    "encoder.fit(y)\n",
    "y = encoder.transform(y)\n",
    "y = np_utils.to_categorical(y)"
   ]
  },
  {
   "cell_type": "code",
   "execution_count": 80,
   "id": "5ec2c5c4",
   "metadata": {},
   "outputs": [],
   "source": [
    "knn_df.drop(labels = [\"Soru14\"], axis = 1, inplace = True)"
   ]
  },
  {
   "cell_type": "code",
   "execution_count": 81,
   "id": "f643559d",
   "metadata": {},
   "outputs": [
    {
     "data": {
      "text/plain": [
       "((1866, 11), (800, 11))"
      ]
     },
     "execution_count": 81,
     "metadata": {},
     "output_type": "execute_result"
    }
   ],
   "source": [
    "X_train, X_test, y_train, y_test = train_test_split(\n",
    "    knn_df,\n",
    "    y,\n",
    "    test_size=0.3,\n",
    "    random_state=0)\n",
    "\n",
    "X_train.shape, X_test.shape"
   ]
  },
  {
   "cell_type": "code",
   "execution_count": 93,
   "id": "8f3e7557",
   "metadata": {},
   "outputs": [],
   "source": [
    "# Import Decision Tree Classifier\n",
    "from sklearn.tree import DecisionTreeClassifier \n",
    "\n",
    "# Create Decision Tree classifer object\n",
    "clf = DecisionTreeClassifier(criterion=\"entropy\", max_depth=3)\n",
    "\n",
    "# Train Decision Tree Classifer\n",
    "clf = clf.fit(X_train,y_train)"
   ]
  },
  {
   "cell_type": "code",
   "execution_count": 94,
   "id": "e738ef06",
   "metadata": {},
   "outputs": [],
   "source": [
    "y_pred = clf.predict(X_test)"
   ]
  },
  {
   "cell_type": "code",
   "execution_count": 95,
   "id": "0aafd32b",
   "metadata": {},
   "outputs": [
    {
     "name": "stdout",
     "output_type": "stream",
     "text": [
      "Accuracy: 0.3325\n",
      "f1_weighted: 0.3276314636283961\n"
     ]
    }
   ],
   "source": [
    "import sklearn.metrics as metrics\n",
    "\n",
    "# Accuracy\n",
    "\n",
    "print(\"Accuracy:\",metrics.accuracy_score(y_test,y_pred))\n",
    "\n",
    "# f1 score\n",
    "\n",
    "print(\"f1_weighted:\",metrics.f1_score(y_test, y_pred,average='weighted'))"
   ]
  },
  {
   "cell_type": "code",
   "execution_count": 96,
   "id": "ba6fcc53",
   "metadata": {},
   "outputs": [
    {
     "name": "stdout",
     "output_type": "stream",
     "text": [
      "[[106   0  26   0   0]\n",
      " [107   0  99   0   0]\n",
      " [136   0 244   0   0]\n",
      " [ 10   0  59   0   0]\n",
      " [  6   0   7   0   0]]\n"
     ]
    }
   ],
   "source": [
    "from sklearn.metrics import confusion_matrix, classification_report \n",
    "model_conf = confusion_matrix(np.argmax(y_test, axis=1), np.argmax(y_pred, axis=1))\n",
    "print(model_conf)"
   ]
  },
  {
   "cell_type": "code",
   "execution_count": 97,
   "id": "619db771",
   "metadata": {},
   "outputs": [],
   "source": [
    "#%% ROC-AUC Curve\n",
    "\n",
    "from scipy import interp\n",
    "import matplotlib.pyplot as plt\n",
    "from sklearn.metrics import roc_curve, auc\n",
    "# Learn to predict each class against the other\n",
    "\n",
    "\n",
    "n_classes = 5 # number of class\n",
    "\n",
    "\n",
    "\n",
    "\n",
    "# Compute ROC curve and ROC area for each class\n",
    "fpr = dict()\n",
    "tpr = dict()\n",
    "roc_auc = dict()\n",
    "for i in range(n_classes):\n",
    "    fpr[i], tpr[i], _ = roc_curve(y_test[:, i], y_pred[:, i], )\n",
    "    roc_auc[i] = auc(fpr[i], tpr[i])\n",
    "\n",
    "# Compute micro-average ROC curve and ROC area\n",
    "fpr[\"micro\"], tpr[\"micro\"], _ = roc_curve(y_test.ravel(), y_pred.ravel())\n",
    "roc_auc[\"micro\"] = auc(fpr[\"micro\"], tpr[\"micro\"])"
   ]
  },
  {
   "cell_type": "code",
   "execution_count": 98,
   "id": "01170a07",
   "metadata": {},
   "outputs": [
    {
     "data": {
      "text/plain": [
       "{0: 0.5728542914171657,\n",
       " 1: 0.5,\n",
       " 2: 0.593671679197995,\n",
       " 3: 0.5,\n",
       " 4: 0.5,\n",
       " 'micro': 0.6342187499999999}"
      ]
     },
     "execution_count": 98,
     "metadata": {},
     "output_type": "execute_result"
    }
   ],
   "source": [
    "roc_auc"
   ]
  },
  {
   "cell_type": "code",
   "execution_count": 99,
   "id": "659a4cd5",
   "metadata": {},
   "outputs": [
    {
     "data": {
      "image/png": "[encoded data removed]",
      "text/plain": [
       "<Figure size 432x288 with 1 Axes>"
      ]
     },
     "metadata": {
      "needs_background": "light"
     },
     "output_type": "display_data"
    }
   ],
   "source": [
    "# The process of drawing a roc-auc curve belonging to a specific class\n",
    "\n",
    "plt.figure()\n",
    "lw = 2 # line_width\n",
    "\n",
    "plt.plot(fpr[2], tpr[2], color='darkorange',\n",
    "         lw=lw)\n",
    "         \n",
    "# Drawing Curve according to 3. class \n",
    "plt.plot([0, 1], [0, 1], color='navy', lw=lw, \n",
    "         label ='ROC curve (area = %0.2f)' % roc_auc[2],\n",
    "         linestyle='--')\n",
    "\n",
    "plt.xlim([0.0, 1.0])\n",
    "plt.ylim([0.0, 1.05])\n",
    "plt.xlabel('False Positive Rate')\n",
    "plt.ylabel('True Positive Rate')\n",
    "plt.title('ROC Eğrisi')\n",
    "plt.legend(loc=\"lower right\")\n",
    "plt.show();"
   ]
  },
  {
   "cell_type": "code",
   "execution_count": 100,
   "id": "775f1f45",
   "metadata": {},
   "outputs": [
    {
     "data": {
      "image/png": "[encoded data removed]",
      "text/plain": [
       "<Figure size 432x288 with 1 Axes>"
      ]
     },
     "metadata": {
      "needs_background": "light"
     },
     "output_type": "display_data"
    }
   ],
   "source": [
    "# Process of plotting roc-auc curve belonging to all classes.\n",
    "\n",
    "from itertools import cycle\n",
    "roc_auc_scores = []\n",
    "# First aggregate all false positive rates\n",
    "all_fpr = np.unique(np.concatenate([fpr[i] for i in range(n_classes)]))\n",
    "\n",
    "# Then interpolate all ROC curves at this points\n",
    "mean_tpr = np.zeros_like(all_fpr)\n",
    "for i in range(n_classes):\n",
    "    mean_tpr += interp(all_fpr, fpr[i], tpr[i])\n",
    "\n",
    "# Finally average it and compute AUC\n",
    "mean_tpr /= n_classes\n",
    "\n",
    "fpr[\"macro\"] = all_fpr\n",
    "tpr[\"macro\"] = mean_tpr\n",
    "roc_auc[\"macro\"] = auc(fpr[\"macro\"], tpr[\"macro\"])\n",
    "\n",
    "# Plot all ROC curves\n",
    "plt.figure()\n",
    "plt.plot(fpr[\"micro\"], tpr[\"micro\"],\n",
    "label='micro-average ROC curve (area = {0:0.2f})'\n",
    "''.format(roc_auc[\"micro\"]),\n",
    "color='deeppink', linestyle=':', linewidth=4)\n",
    "\n",
    "plt.plot(fpr[\"macro\"], tpr[\"macro\"],\n",
    "label='macro-average ROC curve (area = {0:0.2f})'\n",
    "''.format(roc_auc[\"macro\"]),\n",
    "color='navy', linestyle=':', linewidth=4)\n",
    "\n",
    "colors = cycle(['aqua', 'darkorange', 'cornflowerblue'])\n",
    "for i, color in zip(range(n_classes), colors):\n",
    "    plt.plot(fpr[i], tpr[i], color=color, lw=2,\n",
    "            label='ROC curve of class {0} (area = {1:0.2f})'\n",
    "             ''.format(i, roc_auc[i]))\n",
    "roc_auc_scores.append(roc_auc[i])\n",
    "\n",
    "plt.plot([0, 1], [0, 1], 'k--', lw=lw)\n",
    "plt.xlim([0.0, 1.0])\n",
    "plt.ylim([0.0, 1.05])\n",
    "plt.xlabel('False Positive Rate')\n",
    "plt.ylabel('True Positive Rate')\n",
    "plt.title('Extending the ROC Curve to Multi-Class for Decision Tree')\n",
    "plt.legend(loc=\"best\", bbox_to_anchor=(0.9, .2, .84, .8))\n",
    "plt.show()"
   ]
  },
  {
   "cell_type": "code",
   "execution_count": 101,
   "id": "be167373",
   "metadata": {},
   "outputs": [],
   "source": [
    "from sklearn.tree import export_graphviz\n",
    "import six\n",
    "import sys\n",
    "sys.modules['sklearn.externals.six'] = six\n",
    "from sklearn.externals.six import StringIO  \n",
    "from IPython.display import Image  \n",
    "import pydotplus"
   ]
  },
  {
   "cell_type": "code",
   "execution_count": 102,
   "id": "a53f56c4",
   "metadata": {},
   "outputs": [],
   "source": [
    "import os \n",
    "os.environ[\"PATH\"] += os.pathsep + r'C:\\Users\\user\\AppData\\Local\\Programs\\Python\\Python38-32\\Lib\\site-packages\\Graphviz\\bin'"
   ]
  },
  {
   "cell_type": "code",
   "execution_count": 103,
   "id": "db15142a",
   "metadata": {},
   "outputs": [
    {
     "data": {
      "image/png": "[encoded data removed]",
      "text/plain": [
       "<IPython.core.display.Image object>"
      ]
     },
     "execution_count": 103,
     "metadata": {},
     "output_type": "execute_result"
    }
   ],
   "source": [
    "dot_data = StringIO()\n",
    "\n",
    "export_graphviz(clf, out_file = dot_data,\n",
    "               filled = True, \n",
    "               rounded = True,\n",
    "               special_characters = True, \n",
    "               feature_names = X_train.columns, class_names = [\"0\", \"1\", \"2\", \"3\", \"4\"])\n",
    "\n",
    "graph = pydotplus.graph_from_dot_data(dot_data.getvalue())\n",
    "graph.write_png(\"X_train.png\")\n",
    "Image(graph.create_png())\n"
   ]
  },
  {
   "cell_type": "markdown",
   "id": "1b7064c2",
   "metadata": {},
   "source": [
    "# Ordered Model rf veriseti"
   ]
  },
  {
   "cell_type": "code",
   "execution_count": 89,
   "id": "43b937c7",
   "metadata": {},
   "outputs": [],
   "source": [
    "import scipy.stats as stats\n",
    "\n",
    "from statsmodels.miscmodels.ordinal_model import OrderedModel"
   ]
  },
  {
   "cell_type": "code",
   "execution_count": 95,
   "id": "bd145bfe",
   "metadata": {},
   "outputs": [],
   "source": [
    "knn_df1 = pd.read_csv(\"knn_df.csv\",sep = \",\")\n",
    "rf_df1 = pd.read_csv(\"rf_df.csv\",sep = \",\")\n"
   ]
  },
  {
   "cell_type": "code",
   "execution_count": 106,
   "id": "785cdfec",
   "metadata": {},
   "outputs": [],
   "source": [
    "rf_df1.drop(labels = \"Unnamed: 0\", axis = 1, inplace = True)\n",
    "knn_df1.drop(labels = \"Unnamed: 0\", axis = 1, inplace = True)"
   ]
  },
  {
   "cell_type": "code",
   "execution_count": 107,
   "id": "fb63b137",
   "metadata": {},
   "outputs": [
    {
     "data": {
      "text/plain": [
       "((1862, 11), (798, 11))"
      ]
     },
     "execution_count": 107,
     "metadata": {},
     "output_type": "execute_result"
    }
   ],
   "source": [
    "X_train, X_test, y_train, y_test = train_test_split(\n",
    "   rf_df1.drop(labels = [\"Soru14\"],axis = 1),\n",
    "    rf_df1[\"Soru14\"],\n",
    "    test_size=0.3,\n",
    "    random_state=0)\n",
    "\n",
    "X_train.shape, X_test.shape"
   ]
  },
  {
   "cell_type": "code",
   "execution_count": 108,
   "id": "f1d37765",
   "metadata": {},
   "outputs": [
    {
     "name": "stdout",
     "output_type": "stream",
     "text": [
      "Optimization terminated successfully.\n",
      "         Current function value: 1.136934\n",
      "         Iterations: 29\n",
      "         Function evaluations: 40\n",
      "         Gradient evaluations: 40\n"
     ]
    },
    {
     "data": {
      "text/html": [
       "<table class=\"simpletable\">\n",
       "<caption>OrderedModel Results</caption>\n",
       "<tr>\n",
       "  <th>Dep. Variable:</th>          <td>Soru14</td>       <th>  Log-Likelihood:    </th> <td> -2117.0</td>\n",
       "</tr>\n",
       "<tr>\n",
       "  <th>Model:</th>               <td>OrderedModel</td>    <th>  AIC:               </th> <td>   4264.</td>\n",
       "</tr>\n",
       "<tr>\n",
       "  <th>Method:</th>           <td>Maximum Likelihood</td> <th>  BIC:               </th> <td>   4347.</td>\n",
       "</tr>\n",
       "<tr>\n",
       "  <th>Date:</th>              <td>Fri, 08 Apr 2022</td>  <th>                     </th>     <td> </td>   \n",
       "</tr>\n",
       "<tr>\n",
       "  <th>Time:</th>                  <td>01:14:03</td>      <th>                     </th>     <td> </td>   \n",
       "</tr>\n",
       "<tr>\n",
       "  <th>No. Observations:</th>       <td>  1862</td>       <th>                     </th>     <td> </td>   \n",
       "</tr>\n",
       "<tr>\n",
       "  <th>Df Residuals:</th>           <td>  1847</td>       <th>                     </th>     <td> </td>   \n",
       "</tr>\n",
       "<tr>\n",
       "  <th>Df Model:</th>               <td>    15</td>       <th>                     </th>     <td> </td>   \n",
       "</tr>\n",
       "</table>\n",
       "<table class=\"simpletable\">\n",
       "<tr>\n",
       "        <td></td>           <th>coef</th>     <th>std err</th>      <th>z</th>      <th>P>|z|</th>  <th>[0.025</th>    <th>0.975]</th>  \n",
       "</tr>\n",
       "<tr>\n",
       "  <th>Soru25</th>        <td>   -0.0359</td> <td>    0.020</td> <td>   -1.800</td> <td> 0.072</td> <td>   -0.075</td> <td>    0.003</td>\n",
       "</tr>\n",
       "<tr>\n",
       "  <th>Soru26</th>        <td>   -0.0190</td> <td>    0.020</td> <td>   -0.943</td> <td> 0.346</td> <td>   -0.058</td> <td>    0.020</td>\n",
       "</tr>\n",
       "<tr>\n",
       "  <th>Soru27</th>        <td>   -0.0231</td> <td>    0.022</td> <td>   -1.040</td> <td> 0.299</td> <td>   -0.067</td> <td>    0.020</td>\n",
       "</tr>\n",
       "<tr>\n",
       "  <th>Soru28</th>        <td>   -0.1048</td> <td>    0.022</td> <td>   -4.715</td> <td> 0.000</td> <td>   -0.148</td> <td>   -0.061</td>\n",
       "</tr>\n",
       "<tr>\n",
       "  <th>Soru29</th>        <td>    0.0717</td> <td>    0.018</td> <td>    3.909</td> <td> 0.000</td> <td>    0.036</td> <td>    0.108</td>\n",
       "</tr>\n",
       "<tr>\n",
       "  <th>Soru30</th>        <td>   -0.2432</td> <td>    0.037</td> <td>   -6.627</td> <td> 0.000</td> <td>   -0.315</td> <td>   -0.171</td>\n",
       "</tr>\n",
       "<tr>\n",
       "  <th>Soru15</th>        <td>   -0.2873</td> <td>    0.032</td> <td>   -8.894</td> <td> 0.000</td> <td>   -0.351</td> <td>   -0.224</td>\n",
       "</tr>\n",
       "<tr>\n",
       "  <th>Soru48.1</th>      <td>    0.0947</td> <td>    0.023</td> <td>    4.116</td> <td> 0.000</td> <td>    0.050</td> <td>    0.140</td>\n",
       "</tr>\n",
       "<tr>\n",
       "  <th>Soru48</th>        <td> 5.985e-05</td> <td> 2.26e-05</td> <td>    2.644</td> <td> 0.008</td> <td> 1.55e-05</td> <td>    0.000</td>\n",
       "</tr>\n",
       "<tr>\n",
       "  <th>Soru18</th>        <td>-1.523e-06</td> <td> 2.42e-06</td> <td>   -0.628</td> <td> 0.530</td> <td>-6.27e-06</td> <td> 3.23e-06</td>\n",
       "</tr>\n",
       "<tr>\n",
       "  <th>kisibasigelir</th> <td> 2.486e-05</td> <td> 5.73e-05</td> <td>    0.434</td> <td> 0.664</td> <td>-8.74e-05</td> <td>    0.000</td>\n",
       "</tr>\n",
       "<tr>\n",
       "  <th>1.0/2.0</th>       <td>   -2.4983</td> <td>    0.146</td> <td>  -17.118</td> <td> 0.000</td> <td>   -2.784</td> <td>   -2.212</td>\n",
       "</tr>\n",
       "<tr>\n",
       "  <th>2.0/3.0</th>       <td>   -0.0417</td> <td>    0.041</td> <td>   -1.028</td> <td> 0.304</td> <td>   -0.121</td> <td>    0.038</td>\n",
       "</tr>\n",
       "<tr>\n",
       "  <th>3.0/4.0</th>       <td>    0.5312</td> <td>    0.029</td> <td>   18.502</td> <td> 0.000</td> <td>    0.475</td> <td>    0.587</td>\n",
       "</tr>\n",
       "<tr>\n",
       "  <th>4.0/5.0</th>       <td>   -0.0905</td> <td>    0.074</td> <td>   -1.218</td> <td> 0.223</td> <td>   -0.236</td> <td>    0.055</td>\n",
       "</tr>\n",
       "</table>"
      ],
      "text/plain": [
       "<class 'statsmodels.iolib.summary.Summary'>\n",
       "\"\"\"\n",
       "                             OrderedModel Results                             \n",
       "==============================================================================\n",
       "Dep. Variable:                 Soru14   Log-Likelihood:                -2117.0\n",
       "Model:                   OrderedModel   AIC:                             4264.\n",
       "Method:            Maximum Likelihood   BIC:                             4347.\n",
       "Date:                Fri, 08 Apr 2022                                         \n",
       "Time:                        01:14:03                                         \n",
       "No. Observations:                1862                                         \n",
       "Df Residuals:                    1847                                         \n",
       "Df Model:                          15                                         \n",
       "=================================================================================\n",
       "                    coef    std err          z      P>|z|      [0.025      0.975]\n",
       "---------------------------------------------------------------------------------\n",
       "Soru25           -0.0359      0.020     -1.800      0.072      -0.075       0.003\n",
       "Soru26           -0.0190      0.020     -0.943      0.346      -0.058       0.020\n",
       "Soru27           -0.0231      0.022     -1.040      0.299      -0.067       0.020\n",
       "Soru28           -0.1048      0.022     -4.715      0.000      -0.148      -0.061\n",
       "Soru29            0.0717      0.018      3.909      0.000       0.036       0.108\n",
       "Soru30           -0.2432      0.037     -6.627      0.000      -0.315      -0.171\n",
       "Soru15           -0.2873      0.032     -8.894      0.000      -0.351      -0.224\n",
       "Soru48.1          0.0947      0.023      4.116      0.000       0.050       0.140\n",
       "Soru48         5.985e-05   2.26e-05      2.644      0.008    1.55e-05       0.000\n",
       "Soru18        -1.523e-06   2.42e-06     -0.628      0.530   -6.27e-06    3.23e-06\n",
       "kisibasigelir  2.486e-05   5.73e-05      0.434      0.664   -8.74e-05       0.000\n",
       "1.0/2.0          -2.4983      0.146    -17.118      0.000      -2.784      -2.212\n",
       "2.0/3.0          -0.0417      0.041     -1.028      0.304      -0.121       0.038\n",
       "3.0/4.0           0.5312      0.029     18.502      0.000       0.475       0.587\n",
       "4.0/5.0          -0.0905      0.074     -1.218      0.223      -0.236       0.055\n",
       "=================================================================================\n",
       "\"\"\""
      ]
     },
     "execution_count": 108,
     "metadata": {},
     "output_type": "execute_result"
    }
   ],
   "source": [
    "mod_prob = OrderedModel(y_train,\n",
    "                        X_train,\n",
    "                        distr='probit')\n",
    "\n",
    "res_prob = mod_prob.fit(method='bfgs')\n",
    "res_prob.summary()"
   ]
  },
  {
   "cell_type": "code",
   "execution_count": 109,
   "id": "847e2bb3",
   "metadata": {},
   "outputs": [
    {
     "data": {
      "text/plain": [
       "array([       -inf, -2.49825375, -1.53905254,  0.1619222 ,  1.07542985,\n",
       "               inf])"
      ]
     },
     "execution_count": 109,
     "metadata": {},
     "output_type": "execute_result"
    }
   ],
   "source": [
    "num_of_thresholds = 4\n",
    "mod_prob.transform_threshold_params(res_prob.params[-num_of_thresholds:]) # Parametre katsayı"
   ]
  },
  {
   "cell_type": "code",
   "execution_count": 110,
   "id": "a9d2dbaf",
   "metadata": {},
   "outputs": [
    {
     "data": {
      "text/plain": [
       "array([[0.0790258 , 0.24644528, 0.56860877, 0.09061217, 0.01530798],\n",
       "       [0.2295345 , 0.35707055, 0.38595307, 0.0251384 , 0.00230349],\n",
       "       [0.32678665, 0.36832686, 0.29138145, 0.01261565, 0.00088939],\n",
       "       ...,\n",
       "       [0.03812276, 0.16978642, 0.60462604, 0.1515964 , 0.03586838],\n",
       "       [0.16511891, 0.32912305, 0.45991222, 0.0411853 , 0.00466053],\n",
       "       [0.08224874, 0.251021  , 0.56470087, 0.08753284, 0.01449656]])"
      ]
     },
     "execution_count": 110,
     "metadata": {},
     "output_type": "execute_result"
    }
   ],
   "source": [
    "pred_prob = res_prob.model.predict(res_prob.params, exog=X_test) #olasılıklar \n",
    "pred_prob"
   ]
  },
  {
   "cell_type": "code",
   "execution_count": 111,
   "id": "189994b2",
   "metadata": {},
   "outputs": [
    {
     "data": {
      "text/plain": [
       "Soru25          -0.035916\n",
       "Soru26          -0.018965\n",
       "Soru27          -0.023114\n",
       "Soru28          -0.104759\n",
       "Soru29           0.071702\n",
       "Soru30          -0.243207\n",
       "Soru15          -0.287263\n",
       "Soru48.1         0.094688\n",
       "Soru48           0.000060\n",
       "Soru18          -0.000002\n",
       "kisibasigelir    0.000025\n",
       "1.0/2.0         -2.498254\n",
       "2.0/3.0         -0.041654\n",
       "3.0/4.0          0.531201\n",
       "4.0/5.0         -0.090464\n",
       "dtype: float64"
      ]
     },
     "execution_count": 111,
     "metadata": {},
     "output_type": "execute_result"
    }
   ],
   "source": [
    "res_prob.params"
   ]
  },
  {
   "cell_type": "code",
   "execution_count": 112,
   "id": "e3d7acc8",
   "metadata": {},
   "outputs": [
    {
     "data": {
      "text/plain": [
       "PredClass_Gelir_Dilimi\n",
       "2                         345\n",
       "1                         208\n",
       "0                         155\n",
       "3                          72\n",
       "4                          20\n",
       "dtype: int64"
      ]
     },
     "execution_count": 112,
     "metadata": {},
     "output_type": "execute_result"
    }
   ],
   "source": [
    "pred_class = y_pred.argmax(1)\n",
    "pcgd = pd.DataFrame(pd.Series(pred_class),columns = [\"PredClass_Gelir_Dilimi\"]) \n",
    "pcgd.value_counts()#tahmin edilen sınıf "
   ]
  },
  {
   "cell_type": "code",
   "execution_count": 116,
   "id": "1deb36bd",
   "metadata": {},
   "outputs": [
    {
     "data": {
      "image/png": "[encoded data removed]",
      "text/plain": [
       "<Figure size 432x288 with 2 Axes>"
      ]
     },
     "metadata": {
      "needs_background": "light"
     },
     "output_type": "display_data"
    }
   ],
   "source": [
    "#Visualize confusion matrix using heatmap\n",
    "import seaborn as sns \n",
    "import matplotlib.pyplot as plt \n",
    "%matplotlib inline\n",
    "\n",
    "class_names = [\"0\", \"1\", \"2\", \"3\",\"4\"]\n",
    "fig, ax = plt.subplots()\n",
    "tick_marks = np.arange(len(class_names))\n",
    "plt.xticks(tick_marks, class_names)\n",
    "plt.yticks(tick_marks, class_names)\n",
    "#Create heatmax\n",
    "sns.heatmap(res_prob.pred_table().iloc[:5,:5],annot = True, cmap = \"YlGnBu\", fmt = \"g\")\n",
    "ax.xaxis.set_label_position(\"top\")\n",
    "plt.tight_layout()\n",
    "plt.title(\"Confusion Matrix\", y = 1.1)\n",
    "plt.ylabel(\"Actual Label\")\n",
    "plt.xlabel(\"Predicted Label\")\n",
    "plt.show();\n",
    "\n"
   ]
  },
  {
   "cell_type": "markdown",
   "id": "daad1a76",
   "metadata": {},
   "source": [
    "# Ordered Model KNN veriseti"
   ]
  },
  {
   "cell_type": "code",
   "execution_count": 117,
   "id": "f290e99e",
   "metadata": {},
   "outputs": [
    {
     "data": {
      "text/plain": [
       "((1866, 11), (800, 11))"
      ]
     },
     "execution_count": 117,
     "metadata": {},
     "output_type": "execute_result"
    }
   ],
   "source": [
    "X_train, X_test, y_train, y_test = train_test_split(\n",
    "   knn_df1.drop(labels = [\"Soru14\"],axis = 1),\n",
    "    knn_df1[\"Soru14\"],\n",
    "    test_size=0.3,\n",
    "    random_state=0)\n",
    "\n",
    "X_train.shape, X_test.shape"
   ]
  },
  {
   "cell_type": "code",
   "execution_count": 118,
   "id": "c91c1d0b",
   "metadata": {},
   "outputs": [
    {
     "name": "stdout",
     "output_type": "stream",
     "text": [
      "Optimization terminated successfully.\n",
      "         Current function value: 1.151568\n",
      "         Iterations: 29\n",
      "         Function evaluations: 41\n",
      "         Gradient evaluations: 41\n"
     ]
    },
    {
     "data": {
      "text/html": [
       "<table class=\"simpletable\">\n",
       "<caption>OrderedModel Results</caption>\n",
       "<tr>\n",
       "  <th>Dep. Variable:</th>          <td>Soru14</td>       <th>  Log-Likelihood:    </th> <td> -2148.8</td>\n",
       "</tr>\n",
       "<tr>\n",
       "  <th>Model:</th>               <td>OrderedModel</td>    <th>  AIC:               </th> <td>   4328.</td>\n",
       "</tr>\n",
       "<tr>\n",
       "  <th>Method:</th>           <td>Maximum Likelihood</td> <th>  BIC:               </th> <td>   4411.</td>\n",
       "</tr>\n",
       "<tr>\n",
       "  <th>Date:</th>              <td>Fri, 08 Apr 2022</td>  <th>                     </th>     <td> </td>   \n",
       "</tr>\n",
       "<tr>\n",
       "  <th>Time:</th>                  <td>01:17:39</td>      <th>                     </th>     <td> </td>   \n",
       "</tr>\n",
       "<tr>\n",
       "  <th>No. Observations:</th>       <td>  1866</td>       <th>                     </th>     <td> </td>   \n",
       "</tr>\n",
       "<tr>\n",
       "  <th>Df Residuals:</th>           <td>  1851</td>       <th>                     </th>     <td> </td>   \n",
       "</tr>\n",
       "<tr>\n",
       "  <th>Df Model:</th>               <td>    15</td>       <th>                     </th>     <td> </td>   \n",
       "</tr>\n",
       "</table>\n",
       "<table class=\"simpletable\">\n",
       "<tr>\n",
       "        <td></td>           <th>coef</th>     <th>std err</th>      <th>z</th>      <th>P>|z|</th>  <th>[0.025</th>    <th>0.975]</th>  \n",
       "</tr>\n",
       "<tr>\n",
       "  <th>Soru25</th>        <td>   -0.0428</td> <td>    0.020</td> <td>   -2.182</td> <td> 0.029</td> <td>   -0.081</td> <td>   -0.004</td>\n",
       "</tr>\n",
       "<tr>\n",
       "  <th>Soru26</th>        <td>   -0.0158</td> <td>    0.020</td> <td>   -0.796</td> <td> 0.426</td> <td>   -0.055</td> <td>    0.023</td>\n",
       "</tr>\n",
       "<tr>\n",
       "  <th>Soru27</th>        <td>   -0.0235</td> <td>    0.022</td> <td>   -1.078</td> <td> 0.281</td> <td>   -0.066</td> <td>    0.019</td>\n",
       "</tr>\n",
       "<tr>\n",
       "  <th>Soru28</th>        <td>   -0.0997</td> <td>    0.022</td> <td>   -4.529</td> <td> 0.000</td> <td>   -0.143</td> <td>   -0.057</td>\n",
       "</tr>\n",
       "<tr>\n",
       "  <th>Soru29</th>        <td>    0.0600</td> <td>    0.018</td> <td>    3.276</td> <td> 0.001</td> <td>    0.024</td> <td>    0.096</td>\n",
       "</tr>\n",
       "<tr>\n",
       "  <th>Soru30</th>        <td>   -0.2611</td> <td>    0.036</td> <td>   -7.194</td> <td> 0.000</td> <td>   -0.332</td> <td>   -0.190</td>\n",
       "</tr>\n",
       "<tr>\n",
       "  <th>Soru15</th>        <td>   -0.2467</td> <td>    0.032</td> <td>   -7.733</td> <td> 0.000</td> <td>   -0.309</td> <td>   -0.184</td>\n",
       "</tr>\n",
       "<tr>\n",
       "  <th>Soru48.1</th>      <td>    0.0677</td> <td>    0.025</td> <td>    2.734</td> <td> 0.006</td> <td>    0.019</td> <td>    0.116</td>\n",
       "</tr>\n",
       "<tr>\n",
       "  <th>Soru48</th>        <td> 5.557e-05</td> <td> 2.42e-05</td> <td>    2.293</td> <td> 0.022</td> <td> 8.08e-06</td> <td>    0.000</td>\n",
       "</tr>\n",
       "<tr>\n",
       "  <th>Soru18</th>        <td> 1.641e-07</td> <td>  1.5e-06</td> <td>    0.109</td> <td> 0.913</td> <td>-2.78e-06</td> <td> 3.11e-06</td>\n",
       "</tr>\n",
       "<tr>\n",
       "  <th>kisibasigelir</th> <td> 2.637e-05</td> <td> 4.76e-05</td> <td>    0.553</td> <td> 0.580</td> <td> -6.7e-05</td> <td>    0.000</td>\n",
       "</tr>\n",
       "<tr>\n",
       "  <th>1.0/2.0</th>       <td>   -2.5554</td> <td>    0.146</td> <td>  -17.481</td> <td> 0.000</td> <td>   -2.842</td> <td>   -2.269</td>\n",
       "</tr>\n",
       "<tr>\n",
       "  <th>2.0/3.0</th>       <td>   -0.0424</td> <td>    0.041</td> <td>   -1.043</td> <td> 0.297</td> <td>   -0.122</td> <td>    0.037</td>\n",
       "</tr>\n",
       "<tr>\n",
       "  <th>3.0/4.0</th>       <td>    0.5137</td> <td>    0.028</td> <td>   18.042</td> <td> 0.000</td> <td>    0.458</td> <td>    0.569</td>\n",
       "</tr>\n",
       "<tr>\n",
       "  <th>4.0/5.0</th>       <td>   -0.1358</td> <td>    0.073</td> <td>   -1.848</td> <td> 0.065</td> <td>   -0.280</td> <td>    0.008</td>\n",
       "</tr>\n",
       "</table>"
      ],
      "text/plain": [
       "<class 'statsmodels.iolib.summary.Summary'>\n",
       "\"\"\"\n",
       "                             OrderedModel Results                             \n",
       "==============================================================================\n",
       "Dep. Variable:                 Soru14   Log-Likelihood:                -2148.8\n",
       "Model:                   OrderedModel   AIC:                             4328.\n",
       "Method:            Maximum Likelihood   BIC:                             4411.\n",
       "Date:                Fri, 08 Apr 2022                                         \n",
       "Time:                        01:17:39                                         \n",
       "No. Observations:                1866                                         \n",
       "Df Residuals:                    1851                                         \n",
       "Df Model:                          15                                         \n",
       "=================================================================================\n",
       "                    coef    std err          z      P>|z|      [0.025      0.975]\n",
       "---------------------------------------------------------------------------------\n",
       "Soru25           -0.0428      0.020     -2.182      0.029      -0.081      -0.004\n",
       "Soru26           -0.0158      0.020     -0.796      0.426      -0.055       0.023\n",
       "Soru27           -0.0235      0.022     -1.078      0.281      -0.066       0.019\n",
       "Soru28           -0.0997      0.022     -4.529      0.000      -0.143      -0.057\n",
       "Soru29            0.0600      0.018      3.276      0.001       0.024       0.096\n",
       "Soru30           -0.2611      0.036     -7.194      0.000      -0.332      -0.190\n",
       "Soru15           -0.2467      0.032     -7.733      0.000      -0.309      -0.184\n",
       "Soru48.1          0.0677      0.025      2.734      0.006       0.019       0.116\n",
       "Soru48         5.557e-05   2.42e-05      2.293      0.022    8.08e-06       0.000\n",
       "Soru18         1.641e-07    1.5e-06      0.109      0.913   -2.78e-06    3.11e-06\n",
       "kisibasigelir  2.637e-05   4.76e-05      0.553      0.580    -6.7e-05       0.000\n",
       "1.0/2.0          -2.5554      0.146    -17.481      0.000      -2.842      -2.269\n",
       "2.0/3.0          -0.0424      0.041     -1.043      0.297      -0.122       0.037\n",
       "3.0/4.0           0.5137      0.028     18.042      0.000       0.458       0.569\n",
       "4.0/5.0          -0.1358      0.073     -1.848      0.065      -0.280       0.008\n",
       "=================================================================================\n",
       "\"\"\""
      ]
     },
     "execution_count": 118,
     "metadata": {},
     "output_type": "execute_result"
    }
   ],
   "source": [
    "mod_prob = OrderedModel(y_train,\n",
    "                        X_train,\n",
    "                        distr='probit')\n",
    "\n",
    "res_prob = mod_prob.fit(method='bfgs')\n",
    "res_prob.summary()"
   ]
  },
  {
   "cell_type": "code",
   "execution_count": 119,
   "id": "2296caa0",
   "metadata": {},
   "outputs": [
    {
     "data": {
      "text/plain": [
       "array([       -inf, -2.55535429, -1.59683358,  0.07460305,  0.94763227,\n",
       "               inf])"
      ]
     },
     "execution_count": 119,
     "metadata": {},
     "output_type": "execute_result"
    }
   ],
   "source": [
    "num_of_thresholds = 4\n",
    "mod_prob.transform_threshold_params(res_prob.params[-num_of_thresholds:]) # Parametre katsayı"
   ]
  },
  {
   "cell_type": "code",
   "execution_count": 120,
   "id": "b434da66",
   "metadata": {},
   "outputs": [
    {
     "data": {
      "text/plain": [
       "array([[3.15960890e-01, 3.68246566e-01, 3.00051826e-01, 1.44932832e-02,\n",
       "        1.24743526e-03],\n",
       "       [1.47995658e-01, 3.17519828e-01, 4.77988718e-01, 4.95085429e-02,\n",
       "        6.98725251e-03],\n",
       "       [4.71550397e-01, 3.40949876e-01, 1.82244759e-01, 4.95496709e-03,\n",
       "        3.00001077e-04],\n",
       "       ...,\n",
       "       [2.28208056e-02, 1.26309190e-01, 5.86936245e-01, 1.97680897e-01,\n",
       "        6.62528622e-02],\n",
       "       [1.46976688e-01, 3.16782429e-01, 4.79241122e-01, 4.99260477e-02,\n",
       "        7.07371380e-03],\n",
       "       [4.51860726e-01, 3.47000090e-01, 1.95085437e-01, 5.69397922e-03,\n",
       "        3.59768028e-04]])"
      ]
     },
     "execution_count": 120,
     "metadata": {},
     "output_type": "execute_result"
    }
   ],
   "source": [
    "pred_prob = res_prob.model.predict(res_prob.params, exog=X_test) #olasılıklar \n",
    "pred_prob"
   ]
  },
  {
   "cell_type": "code",
   "execution_count": 121,
   "id": "71f04593",
   "metadata": {},
   "outputs": [
    {
     "data": {
      "text/plain": [
       "Soru25          -4.281870e-02\n",
       "Soru26          -1.580393e-02\n",
       "Soru27          -2.349025e-02\n",
       "Soru28          -9.967852e-02\n",
       "Soru29           6.003686e-02\n",
       "Soru30          -2.611450e-01\n",
       "Soru15          -2.467168e-01\n",
       "Soru48.1         6.774981e-02\n",
       "Soru48           5.557432e-05\n",
       "Soru18           1.641411e-07\n",
       "kisibasigelir    2.636784e-05\n",
       "1.0/2.0         -2.555354e+00\n",
       "2.0/3.0         -4.236412e-02\n",
       "3.0/4.0          5.136835e-01\n",
       "4.0/5.0         -1.357862e-01\n",
       "dtype: float64"
      ]
     },
     "execution_count": 121,
     "metadata": {},
     "output_type": "execute_result"
    }
   ],
   "source": [
    "res_prob.params"
   ]
  },
  {
   "cell_type": "code",
   "execution_count": 122,
   "id": "0e83b087",
   "metadata": {},
   "outputs": [
    {
     "data": {
      "text/plain": [
       "PredClass_Gelir_Dilimi\n",
       "2                         345\n",
       "1                         208\n",
       "0                         155\n",
       "3                          72\n",
       "4                          20\n",
       "dtype: int64"
      ]
     },
     "execution_count": 122,
     "metadata": {},
     "output_type": "execute_result"
    }
   ],
   "source": [
    "pred_class = y_pred.argmax(1)\n",
    "pcgd = pd.DataFrame(pd.Series(pred_class),columns = [\"PredClass_Gelir_Dilimi\"]) \n",
    "pcgd.value_counts()#tahmin edilen sınıf "
   ]
  },
  {
   "cell_type": "code",
   "execution_count": 123,
   "id": "a0d9369a",
   "metadata": {},
   "outputs": [
    {
     "data": {
      "image/png": "[encoded data removed]",
      "text/plain": [
       "<Figure size 432x288 with 2 Axes>"
      ]
     },
     "metadata": {
      "needs_background": "light"
     },
     "output_type": "display_data"
    }
   ],
   "source": [
    "#Visualize confusion matrix using heatmap\n",
    "import seaborn as sns \n",
    "import matplotlib.pyplot as plt \n",
    "%matplotlib inline\n",
    "\n",
    "class_names = [\"0\", \"1\", \"2\", \"3\",\"4\"]\n",
    "fig, ax = plt.subplots()\n",
    "tick_marks = np.arange(len(class_names))\n",
    "plt.xticks(tick_marks, class_names)\n",
    "plt.yticks(tick_marks, class_names)\n",
    "#Create heatmax\n",
    "sns.heatmap(res_prob.pred_table().iloc[:5,:5],annot = True, cmap = \"YlGnBu\", fmt = \"g\")\n",
    "ax.xaxis.set_label_position(\"top\")\n",
    "plt.tight_layout()\n",
    "plt.title(\"Confusion Matrix\", y = 1.1)\n",
    "plt.ylabel(\"Actual Label\")\n",
    "plt.xlabel(\"Predicted Label\")\n",
    "plt.show();"
   ]
  },
  {
   "cell_type": "markdown",
   "id": "8d3534d4",
   "metadata": {},
   "source": [
    "* not1 : https://www.statsmodels.org/dev/examples/notebooks/generated/ordinal_regression.html\n",
    "\n",
    "* not2 :https://www.statsmodels.org/dev/generated/statsmodels.discrete.discrete_model.Logit.fit.html"
   ]
  }
 ],
 "metadata": {
  "kernelspec": {
   "display_name": "Python 3 (ipykernel)",
   "language": "python",
   "name": "python3"
  },
  "language_info": {
   "codemirror_mode": {
    "name": "ipython",
    "version": 3
   },
   "file_extension": ".py",
   "mimetype": "text/x-python",
   "name": "python",
   "nbconvert_exporter": "python",
   "pygments_lexer": "ipython3",
   "version": "3.9.12"
  }
 },
 "nbformat": 4,
 "nbformat_minor": 5
}
